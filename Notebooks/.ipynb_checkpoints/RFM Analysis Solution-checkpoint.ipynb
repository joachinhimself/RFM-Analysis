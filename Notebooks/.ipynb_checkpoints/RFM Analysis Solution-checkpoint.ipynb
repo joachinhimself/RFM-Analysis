{
 "cells": [
  {
   "cell_type": "markdown",
   "id": "b96e96e9",
   "metadata": {},
   "source": [
    "### Importing libraries ###"
   ]
  },
  {
   "cell_type": "code",
   "execution_count": 58,
   "id": "ce38a81c",
   "metadata": {},
   "outputs": [],
   "source": [
    "import pandas as pd\n",
    "import numpy as np\n",
    "import seaborn as sns\n",
    "import matplotlib.pyplot as plt"
   ]
  },
  {
   "cell_type": "markdown",
   "id": "90d5bc3c",
   "metadata": {},
   "source": [
    "### Checking Working Directory "
   ]
  },
  {
   "cell_type": "code",
   "execution_count": 59,
   "id": "9c4de865",
   "metadata": {},
   "outputs": [
    {
     "name": "stdout",
     "output_type": "stream",
     "text": [
      "C:\\Users\\Obinna J. Duruiheme\\RFM Analysis\\Notebooks\n"
     ]
    }
   ],
   "source": [
    "import os\n",
    "print(os.getcwd())"
   ]
  },
  {
   "cell_type": "code",
   "execution_count": 60,
   "id": "fa7baab1",
   "metadata": {},
   "outputs": [
    {
     "name": "stdout",
     "output_type": "stream",
     "text": [
      "['.ipynb_checkpoints', 'RFM Analysis Solution.ipynb']\n"
     ]
    }
   ],
   "source": [
    "print(os.listdir())"
   ]
  },
  {
   "cell_type": "markdown",
   "id": "92bd7be0",
   "metadata": {},
   "source": [
    "### Loading Data"
   ]
  },
  {
   "cell_type": "code",
   "execution_count": 61,
   "id": "a05357cd",
   "metadata": {},
   "outputs": [],
   "source": [
    "df = pd.read_csv('../Data/bank_data.csv')"
   ]
  },
  {
   "cell_type": "markdown",
   "id": "1d1d83ab",
   "metadata": {},
   "source": [
    "### Dataset Exploration "
   ]
  },
  {
   "cell_type": "code",
   "execution_count": 62,
   "id": "5d73b654",
   "metadata": {},
   "outputs": [
    {
     "data": {
      "text/plain": [
       "(1041614, 9)"
      ]
     },
     "execution_count": 62,
     "metadata": {},
     "output_type": "execute_result"
    }
   ],
   "source": [
    "df.shape"
   ]
  },
  {
   "cell_type": "code",
   "execution_count": 63,
   "id": "f827ab51",
   "metadata": {},
   "outputs": [
    {
     "data": {
      "text/html": [
       "<div>\n",
       "<style scoped>\n",
       "    .dataframe tbody tr th:only-of-type {\n",
       "        vertical-align: middle;\n",
       "    }\n",
       "\n",
       "    .dataframe tbody tr th {\n",
       "        vertical-align: top;\n",
       "    }\n",
       "\n",
       "    .dataframe thead th {\n",
       "        text-align: right;\n",
       "    }\n",
       "</style>\n",
       "<table border=\"1\" class=\"dataframe\">\n",
       "  <thead>\n",
       "    <tr style=\"text-align: right;\">\n",
       "      <th></th>\n",
       "      <th>TransactionID</th>\n",
       "      <th>CustomerID</th>\n",
       "      <th>CustomerDOB</th>\n",
       "      <th>CustGender</th>\n",
       "      <th>CustLocation</th>\n",
       "      <th>CustAccountBalance</th>\n",
       "      <th>TransactionDate</th>\n",
       "      <th>TransactionTime</th>\n",
       "      <th>TransactionAmount (INR)</th>\n",
       "    </tr>\n",
       "  </thead>\n",
       "  <tbody>\n",
       "    <tr>\n",
       "      <th>0</th>\n",
       "      <td>T1</td>\n",
       "      <td>C5841053</td>\n",
       "      <td>10/1/94</td>\n",
       "      <td>F</td>\n",
       "      <td>JAMSHEDPUR</td>\n",
       "      <td>17819.05</td>\n",
       "      <td>2/8/16</td>\n",
       "      <td>143207</td>\n",
       "      <td>25.0</td>\n",
       "    </tr>\n",
       "    <tr>\n",
       "      <th>1</th>\n",
       "      <td>T2</td>\n",
       "      <td>C2142763</td>\n",
       "      <td>4/4/57</td>\n",
       "      <td>M</td>\n",
       "      <td>JHAJJAR</td>\n",
       "      <td>2270.69</td>\n",
       "      <td>2/8/16</td>\n",
       "      <td>141858</td>\n",
       "      <td>27999.0</td>\n",
       "    </tr>\n",
       "    <tr>\n",
       "      <th>2</th>\n",
       "      <td>T3</td>\n",
       "      <td>C4417068</td>\n",
       "      <td>26/11/96</td>\n",
       "      <td>F</td>\n",
       "      <td>MUMBAI</td>\n",
       "      <td>17874.44</td>\n",
       "      <td>2/8/16</td>\n",
       "      <td>142712</td>\n",
       "      <td>459.0</td>\n",
       "    </tr>\n",
       "  </tbody>\n",
       "</table>\n",
       "</div>"
      ],
      "text/plain": [
       "  TransactionID CustomerID CustomerDOB CustGender CustLocation  \\\n",
       "0            T1   C5841053     10/1/94          F   JAMSHEDPUR   \n",
       "1            T2   C2142763      4/4/57          M      JHAJJAR   \n",
       "2            T3   C4417068    26/11/96          F       MUMBAI   \n",
       "\n",
       "   CustAccountBalance TransactionDate  TransactionTime  \\\n",
       "0            17819.05          2/8/16           143207   \n",
       "1             2270.69          2/8/16           141858   \n",
       "2            17874.44          2/8/16           142712   \n",
       "\n",
       "   TransactionAmount (INR)  \n",
       "0                     25.0  \n",
       "1                  27999.0  \n",
       "2                    459.0  "
      ]
     },
     "execution_count": 63,
     "metadata": {},
     "output_type": "execute_result"
    }
   ],
   "source": [
    "df.head(3)"
   ]
  },
  {
   "cell_type": "code",
   "execution_count": 64,
   "id": "654caf9b",
   "metadata": {},
   "outputs": [
    {
     "data": {
      "text/html": [
       "<div>\n",
       "<style scoped>\n",
       "    .dataframe tbody tr th:only-of-type {\n",
       "        vertical-align: middle;\n",
       "    }\n",
       "\n",
       "    .dataframe tbody tr th {\n",
       "        vertical-align: top;\n",
       "    }\n",
       "\n",
       "    .dataframe thead th {\n",
       "        text-align: right;\n",
       "    }\n",
       "</style>\n",
       "<table border=\"1\" class=\"dataframe\">\n",
       "  <thead>\n",
       "    <tr style=\"text-align: right;\">\n",
       "      <th></th>\n",
       "      <th>TransactionID</th>\n",
       "      <th>CustomerID</th>\n",
       "      <th>CustomerDOB</th>\n",
       "      <th>CustGender</th>\n",
       "      <th>CustLocation</th>\n",
       "      <th>CustAccountBalance</th>\n",
       "      <th>TransactionDate</th>\n",
       "      <th>TransactionTime</th>\n",
       "      <th>TransactionAmount (INR)</th>\n",
       "    </tr>\n",
       "  </thead>\n",
       "  <tbody>\n",
       "    <tr>\n",
       "      <th>1041611</th>\n",
       "      <td>T1048565</td>\n",
       "      <td>C6412354</td>\n",
       "      <td>18/5/89</td>\n",
       "      <td>M</td>\n",
       "      <td>HYDERABAD</td>\n",
       "      <td>221757.06</td>\n",
       "      <td>18/9/16</td>\n",
       "      <td>183313</td>\n",
       "      <td>770.0</td>\n",
       "    </tr>\n",
       "    <tr>\n",
       "      <th>1041612</th>\n",
       "      <td>T1048566</td>\n",
       "      <td>C6420483</td>\n",
       "      <td>30/8/78</td>\n",
       "      <td>M</td>\n",
       "      <td>VISAKHAPATNAM</td>\n",
       "      <td>10117.87</td>\n",
       "      <td>18/9/16</td>\n",
       "      <td>184706</td>\n",
       "      <td>1000.0</td>\n",
       "    </tr>\n",
       "    <tr>\n",
       "      <th>1041613</th>\n",
       "      <td>T1048567</td>\n",
       "      <td>C8337524</td>\n",
       "      <td>5/3/84</td>\n",
       "      <td>M</td>\n",
       "      <td>PUNE</td>\n",
       "      <td>75734.42</td>\n",
       "      <td>18/9/16</td>\n",
       "      <td>181222</td>\n",
       "      <td>1166.0</td>\n",
       "    </tr>\n",
       "  </tbody>\n",
       "</table>\n",
       "</div>"
      ],
      "text/plain": [
       "        TransactionID CustomerID CustomerDOB CustGender   CustLocation  \\\n",
       "1041611      T1048565   C6412354     18/5/89          M      HYDERABAD   \n",
       "1041612      T1048566   C6420483     30/8/78          M  VISAKHAPATNAM   \n",
       "1041613      T1048567   C8337524      5/3/84          M           PUNE   \n",
       "\n",
       "         CustAccountBalance TransactionDate  TransactionTime  \\\n",
       "1041611           221757.06         18/9/16           183313   \n",
       "1041612            10117.87         18/9/16           184706   \n",
       "1041613            75734.42         18/9/16           181222   \n",
       "\n",
       "         TransactionAmount (INR)  \n",
       "1041611                    770.0  \n",
       "1041612                   1000.0  \n",
       "1041613                   1166.0  "
      ]
     },
     "execution_count": 64,
     "metadata": {},
     "output_type": "execute_result"
    }
   ],
   "source": [
    "df.tail(3)"
   ]
  },
  {
   "cell_type": "code",
   "execution_count": 65,
   "id": "edfcd6d5",
   "metadata": {},
   "outputs": [
    {
     "name": "stdout",
     "output_type": "stream",
     "text": [
      "<class 'pandas.core.frame.DataFrame'>\n",
      "RangeIndex: 1041614 entries, 0 to 1041613\n",
      "Data columns (total 9 columns):\n",
      " #   Column                   Non-Null Count    Dtype  \n",
      "---  ------                   --------------    -----  \n",
      " 0   TransactionID            1041614 non-null  object \n",
      " 1   CustomerID               1041614 non-null  object \n",
      " 2   CustomerDOB              1041614 non-null  object \n",
      " 3   CustGender               1041614 non-null  object \n",
      " 4   CustLocation             1041614 non-null  object \n",
      " 5   CustAccountBalance       1041614 non-null  float64\n",
      " 6   TransactionDate          1041614 non-null  object \n",
      " 7   TransactionTime          1041614 non-null  int64  \n",
      " 8   TransactionAmount (INR)  1041614 non-null  float64\n",
      "dtypes: float64(2), int64(1), object(6)\n",
      "memory usage: 71.5+ MB\n"
     ]
    }
   ],
   "source": [
    "df.info()"
   ]
  },
  {
   "cell_type": "code",
   "execution_count": 66,
   "id": "73340742",
   "metadata": {},
   "outputs": [
    {
     "data": {
      "text/plain": [
       "TransactionID              1041614\n",
       "CustomerID                  879358\n",
       "CustomerDOB                  17233\n",
       "CustGender                       3\n",
       "CustLocation                  9275\n",
       "CustAccountBalance          160723\n",
       "TransactionDate                 55\n",
       "TransactionTime              81855\n",
       "TransactionAmount (INR)      92391\n",
       "dtype: int64"
      ]
     },
     "execution_count": 66,
     "metadata": {},
     "output_type": "execute_result"
    }
   ],
   "source": [
    "df.nunique()"
   ]
  },
  {
   "cell_type": "code",
   "execution_count": 67,
   "id": "3a9e4470",
   "metadata": {},
   "outputs": [
    {
     "name": "stdout",
     "output_type": "stream",
     "text": [
      "['F' 'M' 'T']\n"
     ]
    }
   ],
   "source": [
    "print(df['CustGender'].unique())"
   ]
  },
  {
   "cell_type": "code",
   "execution_count": 68,
   "id": "2cef08af",
   "metadata": {},
   "outputs": [
    {
     "name": "stdout",
     "output_type": "stream",
     "text": [
      "M    760978\n",
      "F    280635\n",
      "T         1\n",
      "Name: CustGender, dtype: int64\n"
     ]
    }
   ],
   "source": [
    "print(df['CustGender'].value_counts())"
   ]
  },
  {
   "cell_type": "code",
   "execution_count": 69,
   "id": "ddc21d60",
   "metadata": {},
   "outputs": [
    {
     "name": "stdout",
     "output_type": "stream",
     "text": [
      "['2/8/16' '1/8/16' '3/8/16' '5/8/16' '4/8/16' '6/8/16' '9/8/16' '8/8/16'\n",
      " '12/8/16' '7/8/16' '21/10/16' '16/10/16' '10/8/16' '14/8/16' '17/8/16'\n",
      " '21/8/16' '19/8/16' '24/8/16' '22/8/16' '29/8/16' '31/8/16' '22/9/16'\n",
      " '23/9/16' '13/8/16' '25/8/16' '28/8/16' '15/8/16' '27/8/16' '20/8/16'\n",
      " '23/8/16' '30/8/16' '11/8/16' '16/8/16' '26/8/16' '27/9/16' '18/8/16'\n",
      " '25/9/16' '26/9/16' '30/9/16' '3/9/16' '2/9/16' '1/9/16' '6/9/16'\n",
      " '5/9/16' '4/9/16' '9/9/16' '8/9/16' '7/9/16' '12/9/16' '11/9/16'\n",
      " '10/9/16' '15/9/16' '14/9/16' '13/9/16' '18/9/16']\n"
     ]
    }
   ],
   "source": [
    "print(df['TransactionDate'].unique())"
   ]
  },
  {
   "cell_type": "code",
   "execution_count": 70,
   "id": "1ffef88c",
   "metadata": {},
   "outputs": [
    {
     "name": "stdout",
     "output_type": "stream",
     "text": [
      "7/8/16      27084\n",
      "13/8/16     26738\n",
      "4/9/16      26420\n",
      "6/8/16      26416\n",
      "3/9/16      26292\n",
      "10/9/16     25628\n",
      "14/8/16     25407\n",
      "11/9/16     25355\n",
      "15/8/16     24020\n",
      "21/8/16     22833\n",
      "2/9/16      22718\n",
      "12/8/16     22277\n",
      "1/9/16      22179\n",
      "11/8/16     21674\n",
      "9/8/16      21673\n",
      "8/9/16      21648\n",
      "10/8/16     21457\n",
      "9/9/16      21444\n",
      "27/8/16     21349\n",
      "20/8/16     21188\n",
      "5/9/16      21116\n",
      "7/9/16      20999\n",
      "17/8/16     20960\n",
      "5/8/16      20949\n",
      "28/8/16     20944\n",
      "8/8/16      20883\n",
      "2/8/16      20787\n",
      "12/9/16     20611\n",
      "4/8/16      20535\n",
      "13/9/16     20506\n",
      "3/8/16      20446\n",
      "16/8/16     20278\n",
      "1/8/16      20277\n",
      "14/9/16     19845\n",
      "15/9/16     19610\n",
      "31/8/16     19586\n",
      "6/9/16      19510\n",
      "18/8/16     19338\n",
      "19/8/16     18559\n",
      "22/8/16     18441\n",
      "25/8/16     18424\n",
      "24/8/16     17893\n",
      "26/8/16     17615\n",
      "30/8/16     17273\n",
      "23/8/16     17239\n",
      "29/8/16     16700\n",
      "18/9/16     14622\n",
      "26/9/16     12376\n",
      "25/9/16      8127\n",
      "27/9/16      7401\n",
      "22/9/16      6925\n",
      "21/10/16     3641\n",
      "23/9/16      3460\n",
      "30/9/16      1935\n",
      "16/10/16        3\n",
      "Name: TransactionDate, dtype: int64\n"
     ]
    }
   ],
   "source": [
    "print(df['TransactionDate'].value_counts())"
   ]
  },
  {
   "cell_type": "code",
   "execution_count": 71,
   "id": "87812dd8",
   "metadata": {},
   "outputs": [
    {
     "data": {
      "text/html": [
       "<div>\n",
       "<style scoped>\n",
       "    .dataframe tbody tr th:only-of-type {\n",
       "        vertical-align: middle;\n",
       "    }\n",
       "\n",
       "    .dataframe tbody tr th {\n",
       "        vertical-align: top;\n",
       "    }\n",
       "\n",
       "    .dataframe thead th {\n",
       "        text-align: right;\n",
       "    }\n",
       "</style>\n",
       "<table border=\"1\" class=\"dataframe\">\n",
       "  <thead>\n",
       "    <tr style=\"text-align: right;\">\n",
       "      <th></th>\n",
       "      <th>TransactionID</th>\n",
       "      <th>CustomerID</th>\n",
       "      <th>CustomerDOB</th>\n",
       "      <th>CustGender</th>\n",
       "      <th>CustLocation</th>\n",
       "      <th>CustAccountBalance</th>\n",
       "      <th>TransactionDate</th>\n",
       "      <th>TransactionTime</th>\n",
       "      <th>TransactionAmount (INR)</th>\n",
       "    </tr>\n",
       "  </thead>\n",
       "  <tbody>\n",
       "    <tr>\n",
       "      <th>count</th>\n",
       "      <td>1041614</td>\n",
       "      <td>1041614</td>\n",
       "      <td>1041614</td>\n",
       "      <td>1041614</td>\n",
       "      <td>1041614</td>\n",
       "      <td>1.041614e+06</td>\n",
       "      <td>1041614</td>\n",
       "      <td>1.041614e+06</td>\n",
       "      <td>1.041614e+06</td>\n",
       "    </tr>\n",
       "    <tr>\n",
       "      <th>unique</th>\n",
       "      <td>1041614</td>\n",
       "      <td>879358</td>\n",
       "      <td>17233</td>\n",
       "      <td>3</td>\n",
       "      <td>9275</td>\n",
       "      <td>NaN</td>\n",
       "      <td>55</td>\n",
       "      <td>NaN</td>\n",
       "      <td>NaN</td>\n",
       "    </tr>\n",
       "    <tr>\n",
       "      <th>top</th>\n",
       "      <td>T1</td>\n",
       "      <td>C5533885</td>\n",
       "      <td>1/1/1800</td>\n",
       "      <td>M</td>\n",
       "      <td>MUMBAI</td>\n",
       "      <td>NaN</td>\n",
       "      <td>7/8/16</td>\n",
       "      <td>NaN</td>\n",
       "      <td>NaN</td>\n",
       "    </tr>\n",
       "    <tr>\n",
       "      <th>freq</th>\n",
       "      <td>1</td>\n",
       "      <td>6</td>\n",
       "      <td>56292</td>\n",
       "      <td>760978</td>\n",
       "      <td>101997</td>\n",
       "      <td>NaN</td>\n",
       "      <td>27084</td>\n",
       "      <td>NaN</td>\n",
       "      <td>NaN</td>\n",
       "    </tr>\n",
       "    <tr>\n",
       "      <th>mean</th>\n",
       "      <td>NaN</td>\n",
       "      <td>NaN</td>\n",
       "      <td>NaN</td>\n",
       "      <td>NaN</td>\n",
       "      <td>NaN</td>\n",
       "      <td>1.149986e+05</td>\n",
       "      <td>NaN</td>\n",
       "      <td>1.571221e+05</td>\n",
       "      <td>1.566096e+03</td>\n",
       "    </tr>\n",
       "    <tr>\n",
       "      <th>std</th>\n",
       "      <td>NaN</td>\n",
       "      <td>NaN</td>\n",
       "      <td>NaN</td>\n",
       "      <td>NaN</td>\n",
       "      <td>NaN</td>\n",
       "      <td>8.467609e+05</td>\n",
       "      <td>NaN</td>\n",
       "      <td>5.126352e+04</td>\n",
       "      <td>6.561464e+03</td>\n",
       "    </tr>\n",
       "    <tr>\n",
       "      <th>min</th>\n",
       "      <td>NaN</td>\n",
       "      <td>NaN</td>\n",
       "      <td>NaN</td>\n",
       "      <td>NaN</td>\n",
       "      <td>NaN</td>\n",
       "      <td>0.000000e+00</td>\n",
       "      <td>NaN</td>\n",
       "      <td>0.000000e+00</td>\n",
       "      <td>0.000000e+00</td>\n",
       "    </tr>\n",
       "    <tr>\n",
       "      <th>25%</th>\n",
       "      <td>NaN</td>\n",
       "      <td>NaN</td>\n",
       "      <td>NaN</td>\n",
       "      <td>NaN</td>\n",
       "      <td>NaN</td>\n",
       "      <td>4.728140e+03</td>\n",
       "      <td>NaN</td>\n",
       "      <td>1.240410e+05</td>\n",
       "      <td>1.600000e+02</td>\n",
       "    </tr>\n",
       "    <tr>\n",
       "      <th>50%</th>\n",
       "      <td>NaN</td>\n",
       "      <td>NaN</td>\n",
       "      <td>NaN</td>\n",
       "      <td>NaN</td>\n",
       "      <td>NaN</td>\n",
       "      <td>1.676852e+04</td>\n",
       "      <td>NaN</td>\n",
       "      <td>1.642470e+05</td>\n",
       "      <td>4.575000e+02</td>\n",
       "    </tr>\n",
       "    <tr>\n",
       "      <th>75%</th>\n",
       "      <td>NaN</td>\n",
       "      <td>NaN</td>\n",
       "      <td>NaN</td>\n",
       "      <td>NaN</td>\n",
       "      <td>NaN</td>\n",
       "      <td>5.742885e+04</td>\n",
       "      <td>NaN</td>\n",
       "      <td>2.000220e+05</td>\n",
       "      <td>1.200000e+03</td>\n",
       "    </tr>\n",
       "    <tr>\n",
       "      <th>max</th>\n",
       "      <td>NaN</td>\n",
       "      <td>NaN</td>\n",
       "      <td>NaN</td>\n",
       "      <td>NaN</td>\n",
       "      <td>NaN</td>\n",
       "      <td>1.150355e+08</td>\n",
       "      <td>NaN</td>\n",
       "      <td>2.359590e+05</td>\n",
       "      <td>1.560035e+06</td>\n",
       "    </tr>\n",
       "  </tbody>\n",
       "</table>\n",
       "</div>"
      ],
      "text/plain": [
       "       TransactionID CustomerID CustomerDOB CustGender CustLocation  \\\n",
       "count        1041614    1041614     1041614    1041614      1041614   \n",
       "unique       1041614     879358       17233          3         9275   \n",
       "top               T1   C5533885    1/1/1800          M       MUMBAI   \n",
       "freq               1          6       56292     760978       101997   \n",
       "mean             NaN        NaN         NaN        NaN          NaN   \n",
       "std              NaN        NaN         NaN        NaN          NaN   \n",
       "min              NaN        NaN         NaN        NaN          NaN   \n",
       "25%              NaN        NaN         NaN        NaN          NaN   \n",
       "50%              NaN        NaN         NaN        NaN          NaN   \n",
       "75%              NaN        NaN         NaN        NaN          NaN   \n",
       "max              NaN        NaN         NaN        NaN          NaN   \n",
       "\n",
       "        CustAccountBalance TransactionDate  TransactionTime  \\\n",
       "count         1.041614e+06         1041614     1.041614e+06   \n",
       "unique                 NaN              55              NaN   \n",
       "top                    NaN          7/8/16              NaN   \n",
       "freq                   NaN           27084              NaN   \n",
       "mean          1.149986e+05             NaN     1.571221e+05   \n",
       "std           8.467609e+05             NaN     5.126352e+04   \n",
       "min           0.000000e+00             NaN     0.000000e+00   \n",
       "25%           4.728140e+03             NaN     1.240410e+05   \n",
       "50%           1.676852e+04             NaN     1.642470e+05   \n",
       "75%           5.742885e+04             NaN     2.000220e+05   \n",
       "max           1.150355e+08             NaN     2.359590e+05   \n",
       "\n",
       "        TransactionAmount (INR)  \n",
       "count              1.041614e+06  \n",
       "unique                      NaN  \n",
       "top                         NaN  \n",
       "freq                        NaN  \n",
       "mean               1.566096e+03  \n",
       "std                6.561464e+03  \n",
       "min                0.000000e+00  \n",
       "25%                1.600000e+02  \n",
       "50%                4.575000e+02  \n",
       "75%                1.200000e+03  \n",
       "max                1.560035e+06  "
      ]
     },
     "execution_count": 71,
     "metadata": {},
     "output_type": "execute_result"
    }
   ],
   "source": [
    "df.describe(include = 'all')"
   ]
  },
  {
   "cell_type": "code",
   "execution_count": 72,
   "id": "8c3afaed",
   "metadata": {},
   "outputs": [
    {
     "data": {
      "text/html": [
       "<div>\n",
       "<style scoped>\n",
       "    .dataframe tbody tr th:only-of-type {\n",
       "        vertical-align: middle;\n",
       "    }\n",
       "\n",
       "    .dataframe tbody tr th {\n",
       "        vertical-align: top;\n",
       "    }\n",
       "\n",
       "    .dataframe thead th {\n",
       "        text-align: right;\n",
       "    }\n",
       "</style>\n",
       "<table border=\"1\" class=\"dataframe\">\n",
       "  <thead>\n",
       "    <tr style=\"text-align: right;\">\n",
       "      <th></th>\n",
       "      <th>CustAccountBalance</th>\n",
       "      <th>TransactionTime</th>\n",
       "      <th>TransactionAmount (INR)</th>\n",
       "    </tr>\n",
       "  </thead>\n",
       "  <tbody>\n",
       "    <tr>\n",
       "      <th>count</th>\n",
       "      <td>1.041614e+06</td>\n",
       "      <td>1.041614e+06</td>\n",
       "      <td>1.041614e+06</td>\n",
       "    </tr>\n",
       "    <tr>\n",
       "      <th>mean</th>\n",
       "      <td>1.149986e+05</td>\n",
       "      <td>1.571221e+05</td>\n",
       "      <td>1.566096e+03</td>\n",
       "    </tr>\n",
       "    <tr>\n",
       "      <th>std</th>\n",
       "      <td>8.467609e+05</td>\n",
       "      <td>5.126352e+04</td>\n",
       "      <td>6.561464e+03</td>\n",
       "    </tr>\n",
       "    <tr>\n",
       "      <th>min</th>\n",
       "      <td>0.000000e+00</td>\n",
       "      <td>0.000000e+00</td>\n",
       "      <td>0.000000e+00</td>\n",
       "    </tr>\n",
       "    <tr>\n",
       "      <th>25%</th>\n",
       "      <td>4.728140e+03</td>\n",
       "      <td>1.240410e+05</td>\n",
       "      <td>1.600000e+02</td>\n",
       "    </tr>\n",
       "    <tr>\n",
       "      <th>50%</th>\n",
       "      <td>1.676852e+04</td>\n",
       "      <td>1.642470e+05</td>\n",
       "      <td>4.575000e+02</td>\n",
       "    </tr>\n",
       "    <tr>\n",
       "      <th>75%</th>\n",
       "      <td>5.742885e+04</td>\n",
       "      <td>2.000220e+05</td>\n",
       "      <td>1.200000e+03</td>\n",
       "    </tr>\n",
       "    <tr>\n",
       "      <th>max</th>\n",
       "      <td>1.150355e+08</td>\n",
       "      <td>2.359590e+05</td>\n",
       "      <td>1.560035e+06</td>\n",
       "    </tr>\n",
       "  </tbody>\n",
       "</table>\n",
       "</div>"
      ],
      "text/plain": [
       "       CustAccountBalance  TransactionTime  TransactionAmount (INR)\n",
       "count        1.041614e+06     1.041614e+06             1.041614e+06\n",
       "mean         1.149986e+05     1.571221e+05             1.566096e+03\n",
       "std          8.467609e+05     5.126352e+04             6.561464e+03\n",
       "min          0.000000e+00     0.000000e+00             0.000000e+00\n",
       "25%          4.728140e+03     1.240410e+05             1.600000e+02\n",
       "50%          1.676852e+04     1.642470e+05             4.575000e+02\n",
       "75%          5.742885e+04     2.000220e+05             1.200000e+03\n",
       "max          1.150355e+08     2.359590e+05             1.560035e+06"
      ]
     },
     "execution_count": 72,
     "metadata": {},
     "output_type": "execute_result"
    }
   ],
   "source": [
    "df.describe()"
   ]
  },
  {
   "cell_type": "code",
   "execution_count": 73,
   "id": "ff5ee01f",
   "metadata": {},
   "outputs": [
    {
     "name": "stdout",
     "output_type": "stream",
     "text": [
      "                         CustAccountBalance  TransactionTime  \\\n",
      "CustAccountBalance                 1.000000        -0.004012   \n",
      "TransactionTime                   -0.004012         1.000000   \n",
      "TransactionAmount (INR)            0.062692         0.008296   \n",
      "\n",
      "                         TransactionAmount (INR)  \n",
      "CustAccountBalance                      0.062692  \n",
      "TransactionTime                         0.008296  \n",
      "TransactionAmount (INR)                 1.000000  \n"
     ]
    }
   ],
   "source": [
    "corr = (df.corr())\n",
    "print(corr)"
   ]
  },
  {
   "cell_type": "markdown",
   "id": "a8a235da",
   "metadata": {},
   "source": [
    "### Data Cleaning "
   ]
  },
  {
   "cell_type": "code",
   "execution_count": 74,
   "id": "42665936",
   "metadata": {},
   "outputs": [
    {
     "data": {
      "text/plain": [
       "TransactionID              0\n",
       "CustomerID                 0\n",
       "CustomerDOB                0\n",
       "CustGender                 0\n",
       "CustLocation               0\n",
       "CustAccountBalance         0\n",
       "TransactionDate            0\n",
       "TransactionTime            0\n",
       "TransactionAmount (INR)    0\n",
       "dtype: int64"
      ]
     },
     "execution_count": 74,
     "metadata": {},
     "output_type": "execute_result"
    }
   ],
   "source": [
    "df.isnull().sum()"
   ]
  },
  {
   "cell_type": "code",
   "execution_count": 75,
   "id": "5aabee27",
   "metadata": {},
   "outputs": [],
   "source": [
    "# converting TransactionDate and CustomerDOB to datetime format\n",
    "df['TransactionDate'] = pd.to_datetime(df['TransactionDate'], format='%d/%m/%y')\n",
    "df['CustomerDOB'] = pd.to_datetime(df['CustomerDOB'])                          "
   ]
  },
  {
   "cell_type": "code",
   "execution_count": 76,
   "id": "789ed8f3",
   "metadata": {},
   "outputs": [
    {
     "data": {
      "text/plain": [
       "0   2016-08-02\n",
       "1   2016-08-02\n",
       "2   2016-08-02\n",
       "Name: TransactionDate, dtype: datetime64[ns]"
      ]
     },
     "execution_count": 76,
     "metadata": {},
     "output_type": "execute_result"
    }
   ],
   "source": [
    "df['TransactionDate'].head(3)"
   ]
  },
  {
   "cell_type": "code",
   "execution_count": 77,
   "id": "99320f17",
   "metadata": {},
   "outputs": [
    {
     "data": {
      "text/plain": [
       "array(['2016-08-02T00:00:00.000000000', '2016-08-01T00:00:00.000000000',\n",
       "       '2016-08-03T00:00:00.000000000', '2016-08-05T00:00:00.000000000',\n",
       "       '2016-08-04T00:00:00.000000000', '2016-08-06T00:00:00.000000000',\n",
       "       '2016-08-09T00:00:00.000000000', '2016-08-08T00:00:00.000000000',\n",
       "       '2016-08-12T00:00:00.000000000', '2016-08-07T00:00:00.000000000',\n",
       "       '2016-10-21T00:00:00.000000000', '2016-10-16T00:00:00.000000000',\n",
       "       '2016-08-10T00:00:00.000000000', '2016-08-14T00:00:00.000000000',\n",
       "       '2016-08-17T00:00:00.000000000', '2016-08-21T00:00:00.000000000',\n",
       "       '2016-08-19T00:00:00.000000000', '2016-08-24T00:00:00.000000000',\n",
       "       '2016-08-22T00:00:00.000000000', '2016-08-29T00:00:00.000000000',\n",
       "       '2016-08-31T00:00:00.000000000', '2016-09-22T00:00:00.000000000',\n",
       "       '2016-09-23T00:00:00.000000000', '2016-08-13T00:00:00.000000000',\n",
       "       '2016-08-25T00:00:00.000000000', '2016-08-28T00:00:00.000000000',\n",
       "       '2016-08-15T00:00:00.000000000', '2016-08-27T00:00:00.000000000',\n",
       "       '2016-08-20T00:00:00.000000000', '2016-08-23T00:00:00.000000000',\n",
       "       '2016-08-30T00:00:00.000000000', '2016-08-11T00:00:00.000000000',\n",
       "       '2016-08-16T00:00:00.000000000', '2016-08-26T00:00:00.000000000',\n",
       "       '2016-09-27T00:00:00.000000000', '2016-08-18T00:00:00.000000000',\n",
       "       '2016-09-25T00:00:00.000000000', '2016-09-26T00:00:00.000000000',\n",
       "       '2016-09-30T00:00:00.000000000', '2016-09-03T00:00:00.000000000',\n",
       "       '2016-09-02T00:00:00.000000000', '2016-09-01T00:00:00.000000000',\n",
       "       '2016-09-06T00:00:00.000000000', '2016-09-05T00:00:00.000000000',\n",
       "       '2016-09-04T00:00:00.000000000', '2016-09-09T00:00:00.000000000',\n",
       "       '2016-09-08T00:00:00.000000000', '2016-09-07T00:00:00.000000000',\n",
       "       '2016-09-12T00:00:00.000000000', '2016-09-11T00:00:00.000000000',\n",
       "       '2016-09-10T00:00:00.000000000', '2016-09-15T00:00:00.000000000',\n",
       "       '2016-09-14T00:00:00.000000000', '2016-09-13T00:00:00.000000000',\n",
       "       '2016-09-18T00:00:00.000000000'], dtype='datetime64[ns]')"
      ]
     },
     "execution_count": 77,
     "metadata": {},
     "output_type": "execute_result"
    }
   ],
   "source": [
    "df['TransactionDate'].unique()"
   ]
  },
  {
   "cell_type": "code",
   "execution_count": 78,
   "id": "c518e3d2",
   "metadata": {},
   "outputs": [
    {
     "data": {
      "text/plain": [
       "0    02/08/2016\n",
       "1    02/08/2016\n",
       "2    02/08/2016\n",
       "Name: TransactionDate, dtype: object"
      ]
     },
     "execution_count": 78,
     "metadata": {},
     "output_type": "execute_result"
    }
   ],
   "source": [
    "# Display in dd/mm/yyyy format\n",
    "df['TransactionDate'] = df['TransactionDate'].dt.strftime('%d/%m/%Y')\n",
    "df['TransactionDate'].head(3)"
   ]
  },
  {
   "cell_type": "code",
   "execution_count": 79,
   "id": "48cf4226",
   "metadata": {},
   "outputs": [
    {
     "data": {
      "text/plain": [
       "0    01/10/1994\n",
       "1    04/04/2057\n",
       "2    26/11/1996\n",
       "Name: CustomerDOB, dtype: object"
      ]
     },
     "execution_count": 79,
     "metadata": {},
     "output_type": "execute_result"
    }
   ],
   "source": [
    "# Display in dd/mm/yyyy format\n",
    "df['CustomerDOB'] = df['CustomerDOB'].dt.strftime('%d/%m/%Y')\n",
    "df['CustomerDOB'].head(3)"
   ]
  },
  {
   "cell_type": "code",
   "execution_count": 80,
   "id": "4e61319a",
   "metadata": {},
   "outputs": [
    {
     "data": {
      "text/plain": [
       "array(['01/10/1994', '04/04/2057', '26/11/1996', ..., '18/07/2065',\n",
       "       '15/05/2042', '24/10/2044'], dtype=object)"
      ]
     },
     "execution_count": 80,
     "metadata": {},
     "output_type": "execute_result"
    }
   ],
   "source": [
    "df['CustomerDOB'].unique()"
   ]
  },
  {
   "cell_type": "code",
   "execution_count": 81,
   "id": "afad4766",
   "metadata": {},
   "outputs": [],
   "source": [
    "# Calculating customers age and creating a new column for it\n",
    "# def age_calculation(df):\n",
    "#     df['age'] = df['TransactionDate'].dt.year - df['CustomerDOB'].dt.year\n",
    "#     return df"
   ]
  },
  {
   "cell_type": "code",
   "execution_count": 82,
   "id": "51e6c9b3",
   "metadata": {},
   "outputs": [],
   "source": [
    "def parse_dates(date_str):\n",
    "    # If the input is already a Timestamp, return it\n",
    "    if isinstance(date_str, pd.Timestamp):\n",
    "        return date_str\n",
    "    # Keep only the date part for strings\n",
    "    date_str = str(date_str).split()[0]  # Convert to string and keep only the date part\n",
    "    formats = ['%d/%m/%Y', '%d/%m/%y', '%Y-%m-%d', '%m/%d/%Y']\n",
    "    for fmt in formats:\n",
    "        try:\n",
    "            return pd.to_datetime(date_str, format=fmt)\n",
    "        except ValueError:\n",
    "            continue\n",
    "    return pd.NaT  # Return NaT if no formats match"
   ]
  },
  {
   "cell_type": "code",
   "execution_count": 83,
   "id": "b14ee62a",
   "metadata": {},
   "outputs": [],
   "source": [
    "def age_calculation(df):\n",
    "    df['TransactionDate'] = df['TransactionDate'].apply(parse_dates)\n",
    "    df['CustomerDOB'] = df['CustomerDOB'].apply(parse_dates)\n",
    "    df['Age'] = df['TransactionDate'].dt.year - df['CustomerDOB'].dt.year\n",
    "    return df"
   ]
  },
  {
   "cell_type": "code",
   "execution_count": 84,
   "id": "48fb5df9",
   "metadata": {},
   "outputs": [
    {
     "data": {
      "text/html": [
       "<div>\n",
       "<style scoped>\n",
       "    .dataframe tbody tr th:only-of-type {\n",
       "        vertical-align: middle;\n",
       "    }\n",
       "\n",
       "    .dataframe tbody tr th {\n",
       "        vertical-align: top;\n",
       "    }\n",
       "\n",
       "    .dataframe thead th {\n",
       "        text-align: right;\n",
       "    }\n",
       "</style>\n",
       "<table border=\"1\" class=\"dataframe\">\n",
       "  <thead>\n",
       "    <tr style=\"text-align: right;\">\n",
       "      <th></th>\n",
       "      <th>TransactionID</th>\n",
       "      <th>CustomerID</th>\n",
       "      <th>CustomerDOB</th>\n",
       "      <th>CustGender</th>\n",
       "      <th>CustLocation</th>\n",
       "      <th>CustAccountBalance</th>\n",
       "      <th>TransactionDate</th>\n",
       "      <th>TransactionTime</th>\n",
       "      <th>TransactionAmount (INR)</th>\n",
       "      <th>Age</th>\n",
       "    </tr>\n",
       "  </thead>\n",
       "  <tbody>\n",
       "    <tr>\n",
       "      <th>0</th>\n",
       "      <td>T1</td>\n",
       "      <td>C5841053</td>\n",
       "      <td>1994-01-10</td>\n",
       "      <td>F</td>\n",
       "      <td>JAMSHEDPUR</td>\n",
       "      <td>17819.05</td>\n",
       "      <td>2016-08-02</td>\n",
       "      <td>143207</td>\n",
       "      <td>25.0</td>\n",
       "      <td>22</td>\n",
       "    </tr>\n",
       "    <tr>\n",
       "      <th>1</th>\n",
       "      <td>T2</td>\n",
       "      <td>C2142763</td>\n",
       "      <td>2057-04-04</td>\n",
       "      <td>M</td>\n",
       "      <td>JHAJJAR</td>\n",
       "      <td>2270.69</td>\n",
       "      <td>2016-08-02</td>\n",
       "      <td>141858</td>\n",
       "      <td>27999.0</td>\n",
       "      <td>-41</td>\n",
       "    </tr>\n",
       "    <tr>\n",
       "      <th>2</th>\n",
       "      <td>T3</td>\n",
       "      <td>C4417068</td>\n",
       "      <td>1996-11-26</td>\n",
       "      <td>F</td>\n",
       "      <td>MUMBAI</td>\n",
       "      <td>17874.44</td>\n",
       "      <td>2016-08-02</td>\n",
       "      <td>142712</td>\n",
       "      <td>459.0</td>\n",
       "      <td>20</td>\n",
       "    </tr>\n",
       "  </tbody>\n",
       "</table>\n",
       "</div>"
      ],
      "text/plain": [
       "  TransactionID CustomerID CustomerDOB CustGender CustLocation  \\\n",
       "0            T1   C5841053  1994-01-10          F   JAMSHEDPUR   \n",
       "1            T2   C2142763  2057-04-04          M      JHAJJAR   \n",
       "2            T3   C4417068  1996-11-26          F       MUMBAI   \n",
       "\n",
       "   CustAccountBalance TransactionDate  TransactionTime  \\\n",
       "0            17819.05      2016-08-02           143207   \n",
       "1             2270.69      2016-08-02           141858   \n",
       "2            17874.44      2016-08-02           142712   \n",
       "\n",
       "   TransactionAmount (INR)  Age  \n",
       "0                     25.0   22  \n",
       "1                  27999.0  -41  \n",
       "2                    459.0   20  "
      ]
     },
     "execution_count": 84,
     "metadata": {},
     "output_type": "execute_result"
    }
   ],
   "source": [
    "# Load the dataset\n",
    "df = pd.read_csv('../Data/bank_data.csv')\n",
    "\n",
    "# Call the function\n",
    "df = age_calculation(df)\n",
    "\n",
    "# Display the first three rows\n",
    "# print(df.head(3))\n",
    "df.head(3)"
   ]
  },
  {
   "cell_type": "code",
   "execution_count": 85,
   "id": "6c99b1e6",
   "metadata": {},
   "outputs": [
    {
     "data": {
      "text/plain": [
       "1         2057-04-04\n",
       "15        2068-07-10\n",
       "29        2067-01-21\n",
       "50        2066-07-25\n",
       "78        2067-05-25\n",
       "             ...    \n",
       "1041542   2062-09-01\n",
       "1041543   2067-05-07\n",
       "1041547   2051-07-01\n",
       "1041557   2048-07-15\n",
       "1041583   2033-10-05\n",
       "Name: CustomerDOB, Length: 54158, dtype: datetime64[ns]"
      ]
     },
     "execution_count": 85,
     "metadata": {},
     "output_type": "execute_result"
    }
   ],
   "source": [
    "# observing the wrong date of birth with negative sign\n",
    "df[df['Age'] <= 0]['CustomerDOB']"
   ]
  },
  {
   "cell_type": "code",
   "execution_count": 86,
   "id": "6f3ca493",
   "metadata": {},
   "outputs": [],
   "source": [
    "# writing a function to correct negative age by adjusting date of birth\n",
    "def Rewrite_year(date):\n",
    "    if date.year > 2016:\n",
    "        date = date.replace(year = date.year -100)\n",
    "    return date"
   ]
  },
  {
   "cell_type": "code",
   "execution_count": 87,
   "id": "5aa8c8df",
   "metadata": {},
   "outputs": [],
   "source": [
    "df['CustomerDOB'] = df['CustomerDOB'].apply(Rewrite_year)"
   ]
  },
  {
   "cell_type": "code",
   "execution_count": 88,
   "id": "13cdaa95",
   "metadata": {},
   "outputs": [],
   "source": [
    "def age_calculation(df):\n",
    "    df['TransactionDate'] = df['TransactionDate'].apply(parse_dates)\n",
    "    df['CustomerDOB'] = df['CustomerDOB'].apply(parse_dates)\n",
    "    df['Age'] = df['TransactionDate'].dt.year - df['CustomerDOB'].dt.year\n",
    "    return df"
   ]
  },
  {
   "cell_type": "code",
   "execution_count": 89,
   "id": "b7fb5f13",
   "metadata": {},
   "outputs": [
    {
     "data": {
      "text/html": [
       "<div>\n",
       "<style scoped>\n",
       "    .dataframe tbody tr th:only-of-type {\n",
       "        vertical-align: middle;\n",
       "    }\n",
       "\n",
       "    .dataframe tbody tr th {\n",
       "        vertical-align: top;\n",
       "    }\n",
       "\n",
       "    .dataframe thead th {\n",
       "        text-align: right;\n",
       "    }\n",
       "</style>\n",
       "<table border=\"1\" class=\"dataframe\">\n",
       "  <thead>\n",
       "    <tr style=\"text-align: right;\">\n",
       "      <th></th>\n",
       "      <th>TransactionID</th>\n",
       "      <th>CustomerID</th>\n",
       "      <th>CustomerDOB</th>\n",
       "      <th>CustGender</th>\n",
       "      <th>CustLocation</th>\n",
       "      <th>CustAccountBalance</th>\n",
       "      <th>TransactionDate</th>\n",
       "      <th>TransactionTime</th>\n",
       "      <th>TransactionAmount (INR)</th>\n",
       "      <th>Age</th>\n",
       "    </tr>\n",
       "  </thead>\n",
       "  <tbody>\n",
       "    <tr>\n",
       "      <th>0</th>\n",
       "      <td>T1</td>\n",
       "      <td>C5841053</td>\n",
       "      <td>1994-01-10</td>\n",
       "      <td>F</td>\n",
       "      <td>JAMSHEDPUR</td>\n",
       "      <td>17819.05</td>\n",
       "      <td>2016-08-02</td>\n",
       "      <td>143207</td>\n",
       "      <td>25.0</td>\n",
       "      <td>22</td>\n",
       "    </tr>\n",
       "    <tr>\n",
       "      <th>1</th>\n",
       "      <td>T2</td>\n",
       "      <td>C2142763</td>\n",
       "      <td>2057-04-04</td>\n",
       "      <td>M</td>\n",
       "      <td>JHAJJAR</td>\n",
       "      <td>2270.69</td>\n",
       "      <td>2016-08-02</td>\n",
       "      <td>141858</td>\n",
       "      <td>27999.0</td>\n",
       "      <td>-41</td>\n",
       "    </tr>\n",
       "    <tr>\n",
       "      <th>2</th>\n",
       "      <td>T3</td>\n",
       "      <td>C4417068</td>\n",
       "      <td>1996-11-26</td>\n",
       "      <td>F</td>\n",
       "      <td>MUMBAI</td>\n",
       "      <td>17874.44</td>\n",
       "      <td>2016-08-02</td>\n",
       "      <td>142712</td>\n",
       "      <td>459.0</td>\n",
       "      <td>20</td>\n",
       "    </tr>\n",
       "  </tbody>\n",
       "</table>\n",
       "</div>"
      ],
      "text/plain": [
       "  TransactionID CustomerID CustomerDOB CustGender CustLocation  \\\n",
       "0            T1   C5841053  1994-01-10          F   JAMSHEDPUR   \n",
       "1            T2   C2142763  2057-04-04          M      JHAJJAR   \n",
       "2            T3   C4417068  1996-11-26          F       MUMBAI   \n",
       "\n",
       "   CustAccountBalance TransactionDate  TransactionTime  \\\n",
       "0            17819.05      2016-08-02           143207   \n",
       "1             2270.69      2016-08-02           141858   \n",
       "2            17874.44      2016-08-02           142712   \n",
       "\n",
       "   TransactionAmount (INR)  Age  \n",
       "0                     25.0   22  \n",
       "1                  27999.0  -41  \n",
       "2                    459.0   20  "
      ]
     },
     "execution_count": 89,
     "metadata": {},
     "output_type": "execute_result"
    }
   ],
   "source": [
    "# Load the dataset\n",
    "df = pd.read_csv('../Data/bank_data.csv')\n",
    "\n",
    "# Call the function\n",
    "df = age_calculation(df)\n",
    "\n",
    "# Display the first three rows\n",
    "# print(df.head(3))\n",
    "df.head(3)"
   ]
  },
  {
   "cell_type": "code",
   "execution_count": null,
   "id": "656e6024",
   "metadata": {},
   "outputs": [],
   "source": []
  },
  {
   "cell_type": "code",
   "execution_count": null,
   "id": "f42594d9",
   "metadata": {},
   "outputs": [],
   "source": []
  },
  {
   "cell_type": "markdown",
   "id": "e72ff5d0",
   "metadata": {},
   "source": [
    "Data Preparation"
   ]
  }
 ],
 "metadata": {
  "kernelspec": {
   "display_name": "Python 3 (ipykernel)",
   "language": "python",
   "name": "python3"
  },
  "language_info": {
   "codemirror_mode": {
    "name": "ipython",
    "version": 3
   },
   "file_extension": ".py",
   "mimetype": "text/x-python",
   "name": "python",
   "nbconvert_exporter": "python",
   "pygments_lexer": "ipython3",
   "version": "3.9.13"
  }
 },
 "nbformat": 4,
 "nbformat_minor": 5
}
