{
 "cells": [
  {
   "cell_type": "markdown",
   "id": "b96e96e9",
   "metadata": {},
   "source": [
    "### Importing libraries ###"
   ]
  },
  {
   "cell_type": "code",
   "execution_count": 2,
   "id": "ce38a81c",
   "metadata": {},
   "outputs": [],
   "source": [
    "import pandas as pd\n",
    "import numpy as np\n",
    "import seaborn as sns\n",
    "import matplotlib.pyplot as plt"
   ]
  },
  {
   "cell_type": "markdown",
   "id": "90d5bc3c",
   "metadata": {},
   "source": [
    "### Checking Working Directory "
   ]
  },
  {
   "cell_type": "code",
   "execution_count": 3,
   "id": "9c4de865",
   "metadata": {},
   "outputs": [
    {
     "name": "stdout",
     "output_type": "stream",
     "text": [
      "C:\\Users\\Obinna J. Duruiheme\\RFM Analysis\\Notebooks\n"
     ]
    }
   ],
   "source": [
    "import os\n",
    "print(os.getcwd())"
   ]
  },
  {
   "cell_type": "code",
   "execution_count": 4,
   "id": "fa7baab1",
   "metadata": {},
   "outputs": [
    {
     "name": "stdout",
     "output_type": "stream",
     "text": [
      "['.ipynb_checkpoints', 'RFM Analysis Solution.ipynb']\n"
     ]
    }
   ],
   "source": [
    "print(os.listdir())"
   ]
  },
  {
   "cell_type": "markdown",
   "id": "92bd7be0",
   "metadata": {},
   "source": [
    "### Loading Data"
   ]
  },
  {
   "cell_type": "code",
   "execution_count": 5,
   "id": "a05357cd",
   "metadata": {},
   "outputs": [],
   "source": [
    "df = pd.read_csv('../Data/bank_data.csv')"
   ]
  },
  {
   "cell_type": "markdown",
   "id": "1d1d83ab",
   "metadata": {},
   "source": [
    "### Dataset Exploration "
   ]
  },
  {
   "cell_type": "code",
   "execution_count": 6,
   "id": "5d73b654",
   "metadata": {},
   "outputs": [
    {
     "data": {
      "text/plain": [
       "(1041614, 9)"
      ]
     },
     "execution_count": 6,
     "metadata": {},
     "output_type": "execute_result"
    }
   ],
   "source": [
    "df.shape"
   ]
  },
  {
   "cell_type": "code",
   "execution_count": 7,
   "id": "f827ab51",
   "metadata": {},
   "outputs": [
    {
     "data": {
      "text/html": [
       "<div>\n",
       "<style scoped>\n",
       "    .dataframe tbody tr th:only-of-type {\n",
       "        vertical-align: middle;\n",
       "    }\n",
       "\n",
       "    .dataframe tbody tr th {\n",
       "        vertical-align: top;\n",
       "    }\n",
       "\n",
       "    .dataframe thead th {\n",
       "        text-align: right;\n",
       "    }\n",
       "</style>\n",
       "<table border=\"1\" class=\"dataframe\">\n",
       "  <thead>\n",
       "    <tr style=\"text-align: right;\">\n",
       "      <th></th>\n",
       "      <th>TransactionID</th>\n",
       "      <th>CustomerID</th>\n",
       "      <th>CustomerDOB</th>\n",
       "      <th>CustGender</th>\n",
       "      <th>CustLocation</th>\n",
       "      <th>CustAccountBalance</th>\n",
       "      <th>TransactionDate</th>\n",
       "      <th>TransactionTime</th>\n",
       "      <th>TransactionAmount (INR)</th>\n",
       "    </tr>\n",
       "  </thead>\n",
       "  <tbody>\n",
       "    <tr>\n",
       "      <th>0</th>\n",
       "      <td>T1</td>\n",
       "      <td>C5841053</td>\n",
       "      <td>10/1/94</td>\n",
       "      <td>F</td>\n",
       "      <td>JAMSHEDPUR</td>\n",
       "      <td>17819.05</td>\n",
       "      <td>2/8/16</td>\n",
       "      <td>143207</td>\n",
       "      <td>25.0</td>\n",
       "    </tr>\n",
       "    <tr>\n",
       "      <th>1</th>\n",
       "      <td>T2</td>\n",
       "      <td>C2142763</td>\n",
       "      <td>4/4/57</td>\n",
       "      <td>M</td>\n",
       "      <td>JHAJJAR</td>\n",
       "      <td>2270.69</td>\n",
       "      <td>2/8/16</td>\n",
       "      <td>141858</td>\n",
       "      <td>27999.0</td>\n",
       "    </tr>\n",
       "    <tr>\n",
       "      <th>2</th>\n",
       "      <td>T3</td>\n",
       "      <td>C4417068</td>\n",
       "      <td>26/11/96</td>\n",
       "      <td>F</td>\n",
       "      <td>MUMBAI</td>\n",
       "      <td>17874.44</td>\n",
       "      <td>2/8/16</td>\n",
       "      <td>142712</td>\n",
       "      <td>459.0</td>\n",
       "    </tr>\n",
       "  </tbody>\n",
       "</table>\n",
       "</div>"
      ],
      "text/plain": [
       "  TransactionID CustomerID CustomerDOB CustGender CustLocation  \\\n",
       "0            T1   C5841053     10/1/94          F   JAMSHEDPUR   \n",
       "1            T2   C2142763      4/4/57          M      JHAJJAR   \n",
       "2            T3   C4417068    26/11/96          F       MUMBAI   \n",
       "\n",
       "   CustAccountBalance TransactionDate  TransactionTime  \\\n",
       "0            17819.05          2/8/16           143207   \n",
       "1             2270.69          2/8/16           141858   \n",
       "2            17874.44          2/8/16           142712   \n",
       "\n",
       "   TransactionAmount (INR)  \n",
       "0                     25.0  \n",
       "1                  27999.0  \n",
       "2                    459.0  "
      ]
     },
     "execution_count": 7,
     "metadata": {},
     "output_type": "execute_result"
    }
   ],
   "source": [
    "df.head(3)"
   ]
  },
  {
   "cell_type": "code",
   "execution_count": 8,
   "id": "654caf9b",
   "metadata": {},
   "outputs": [
    {
     "data": {
      "text/html": [
       "<div>\n",
       "<style scoped>\n",
       "    .dataframe tbody tr th:only-of-type {\n",
       "        vertical-align: middle;\n",
       "    }\n",
       "\n",
       "    .dataframe tbody tr th {\n",
       "        vertical-align: top;\n",
       "    }\n",
       "\n",
       "    .dataframe thead th {\n",
       "        text-align: right;\n",
       "    }\n",
       "</style>\n",
       "<table border=\"1\" class=\"dataframe\">\n",
       "  <thead>\n",
       "    <tr style=\"text-align: right;\">\n",
       "      <th></th>\n",
       "      <th>TransactionID</th>\n",
       "      <th>CustomerID</th>\n",
       "      <th>CustomerDOB</th>\n",
       "      <th>CustGender</th>\n",
       "      <th>CustLocation</th>\n",
       "      <th>CustAccountBalance</th>\n",
       "      <th>TransactionDate</th>\n",
       "      <th>TransactionTime</th>\n",
       "      <th>TransactionAmount (INR)</th>\n",
       "    </tr>\n",
       "  </thead>\n",
       "  <tbody>\n",
       "    <tr>\n",
       "      <th>1041611</th>\n",
       "      <td>T1048565</td>\n",
       "      <td>C6412354</td>\n",
       "      <td>18/5/89</td>\n",
       "      <td>M</td>\n",
       "      <td>HYDERABAD</td>\n",
       "      <td>221757.06</td>\n",
       "      <td>18/9/16</td>\n",
       "      <td>183313</td>\n",
       "      <td>770.0</td>\n",
       "    </tr>\n",
       "    <tr>\n",
       "      <th>1041612</th>\n",
       "      <td>T1048566</td>\n",
       "      <td>C6420483</td>\n",
       "      <td>30/8/78</td>\n",
       "      <td>M</td>\n",
       "      <td>VISAKHAPATNAM</td>\n",
       "      <td>10117.87</td>\n",
       "      <td>18/9/16</td>\n",
       "      <td>184706</td>\n",
       "      <td>1000.0</td>\n",
       "    </tr>\n",
       "    <tr>\n",
       "      <th>1041613</th>\n",
       "      <td>T1048567</td>\n",
       "      <td>C8337524</td>\n",
       "      <td>5/3/84</td>\n",
       "      <td>M</td>\n",
       "      <td>PUNE</td>\n",
       "      <td>75734.42</td>\n",
       "      <td>18/9/16</td>\n",
       "      <td>181222</td>\n",
       "      <td>1166.0</td>\n",
       "    </tr>\n",
       "  </tbody>\n",
       "</table>\n",
       "</div>"
      ],
      "text/plain": [
       "        TransactionID CustomerID CustomerDOB CustGender   CustLocation  \\\n",
       "1041611      T1048565   C6412354     18/5/89          M      HYDERABAD   \n",
       "1041612      T1048566   C6420483     30/8/78          M  VISAKHAPATNAM   \n",
       "1041613      T1048567   C8337524      5/3/84          M           PUNE   \n",
       "\n",
       "         CustAccountBalance TransactionDate  TransactionTime  \\\n",
       "1041611           221757.06         18/9/16           183313   \n",
       "1041612            10117.87         18/9/16           184706   \n",
       "1041613            75734.42         18/9/16           181222   \n",
       "\n",
       "         TransactionAmount (INR)  \n",
       "1041611                    770.0  \n",
       "1041612                   1000.0  \n",
       "1041613                   1166.0  "
      ]
     },
     "execution_count": 8,
     "metadata": {},
     "output_type": "execute_result"
    }
   ],
   "source": [
    "df.tail(3)"
   ]
  },
  {
   "cell_type": "code",
   "execution_count": 9,
   "id": "edfcd6d5",
   "metadata": {},
   "outputs": [
    {
     "name": "stdout",
     "output_type": "stream",
     "text": [
      "<class 'pandas.core.frame.DataFrame'>\n",
      "RangeIndex: 1041614 entries, 0 to 1041613\n",
      "Data columns (total 9 columns):\n",
      " #   Column                   Non-Null Count    Dtype  \n",
      "---  ------                   --------------    -----  \n",
      " 0   TransactionID            1041614 non-null  object \n",
      " 1   CustomerID               1041614 non-null  object \n",
      " 2   CustomerDOB              1041614 non-null  object \n",
      " 3   CustGender               1041614 non-null  object \n",
      " 4   CustLocation             1041614 non-null  object \n",
      " 5   CustAccountBalance       1041614 non-null  float64\n",
      " 6   TransactionDate          1041614 non-null  object \n",
      " 7   TransactionTime          1041614 non-null  int64  \n",
      " 8   TransactionAmount (INR)  1041614 non-null  float64\n",
      "dtypes: float64(2), int64(1), object(6)\n",
      "memory usage: 71.5+ MB\n"
     ]
    }
   ],
   "source": [
    "df.info()"
   ]
  },
  {
   "cell_type": "code",
   "execution_count": 10,
   "id": "73340742",
   "metadata": {},
   "outputs": [
    {
     "data": {
      "text/plain": [
       "TransactionID              1041614\n",
       "CustomerID                  879358\n",
       "CustomerDOB                  17233\n",
       "CustGender                       3\n",
       "CustLocation                  9275\n",
       "CustAccountBalance          160723\n",
       "TransactionDate                 55\n",
       "TransactionTime              81855\n",
       "TransactionAmount (INR)      92391\n",
       "dtype: int64"
      ]
     },
     "execution_count": 10,
     "metadata": {},
     "output_type": "execute_result"
    }
   ],
   "source": [
    "df.nunique()"
   ]
  },
  {
   "cell_type": "code",
   "execution_count": 11,
   "id": "3a9e4470",
   "metadata": {},
   "outputs": [
    {
     "name": "stdout",
     "output_type": "stream",
     "text": [
      "['F' 'M' 'T']\n"
     ]
    }
   ],
   "source": [
    "print(df['CustGender'].unique())"
   ]
  },
  {
   "cell_type": "code",
   "execution_count": 12,
   "id": "2cef08af",
   "metadata": {},
   "outputs": [
    {
     "name": "stdout",
     "output_type": "stream",
     "text": [
      "M    760978\n",
      "F    280635\n",
      "T         1\n",
      "Name: CustGender, dtype: int64\n"
     ]
    }
   ],
   "source": [
    "print(df['CustGender'].value_counts())"
   ]
  },
  {
   "cell_type": "code",
   "execution_count": 13,
   "id": "ddc21d60",
   "metadata": {},
   "outputs": [
    {
     "name": "stdout",
     "output_type": "stream",
     "text": [
      "['2/8/16' '1/8/16' '3/8/16' '5/8/16' '4/8/16' '6/8/16' '9/8/16' '8/8/16'\n",
      " '12/8/16' '7/8/16' '21/10/16' '16/10/16' '10/8/16' '14/8/16' '17/8/16'\n",
      " '21/8/16' '19/8/16' '24/8/16' '22/8/16' '29/8/16' '31/8/16' '22/9/16'\n",
      " '23/9/16' '13/8/16' '25/8/16' '28/8/16' '15/8/16' '27/8/16' '20/8/16'\n",
      " '23/8/16' '30/8/16' '11/8/16' '16/8/16' '26/8/16' '27/9/16' '18/8/16'\n",
      " '25/9/16' '26/9/16' '30/9/16' '3/9/16' '2/9/16' '1/9/16' '6/9/16'\n",
      " '5/9/16' '4/9/16' '9/9/16' '8/9/16' '7/9/16' '12/9/16' '11/9/16'\n",
      " '10/9/16' '15/9/16' '14/9/16' '13/9/16' '18/9/16']\n"
     ]
    }
   ],
   "source": [
    "print(df['TransactionDate'].unique())"
   ]
  },
  {
   "cell_type": "code",
   "execution_count": 14,
   "id": "1ffef88c",
   "metadata": {},
   "outputs": [
    {
     "name": "stdout",
     "output_type": "stream",
     "text": [
      "7/8/16      27084\n",
      "13/8/16     26738\n",
      "4/9/16      26420\n",
      "6/8/16      26416\n",
      "3/9/16      26292\n",
      "10/9/16     25628\n",
      "14/8/16     25407\n",
      "11/9/16     25355\n",
      "15/8/16     24020\n",
      "21/8/16     22833\n",
      "2/9/16      22718\n",
      "12/8/16     22277\n",
      "1/9/16      22179\n",
      "11/8/16     21674\n",
      "9/8/16      21673\n",
      "8/9/16      21648\n",
      "10/8/16     21457\n",
      "9/9/16      21444\n",
      "27/8/16     21349\n",
      "20/8/16     21188\n",
      "5/9/16      21116\n",
      "7/9/16      20999\n",
      "17/8/16     20960\n",
      "5/8/16      20949\n",
      "28/8/16     20944\n",
      "8/8/16      20883\n",
      "2/8/16      20787\n",
      "12/9/16     20611\n",
      "4/8/16      20535\n",
      "13/9/16     20506\n",
      "3/8/16      20446\n",
      "16/8/16     20278\n",
      "1/8/16      20277\n",
      "14/9/16     19845\n",
      "15/9/16     19610\n",
      "31/8/16     19586\n",
      "6/9/16      19510\n",
      "18/8/16     19338\n",
      "19/8/16     18559\n",
      "22/8/16     18441\n",
      "25/8/16     18424\n",
      "24/8/16     17893\n",
      "26/8/16     17615\n",
      "30/8/16     17273\n",
      "23/8/16     17239\n",
      "29/8/16     16700\n",
      "18/9/16     14622\n",
      "26/9/16     12376\n",
      "25/9/16      8127\n",
      "27/9/16      7401\n",
      "22/9/16      6925\n",
      "21/10/16     3641\n",
      "23/9/16      3460\n",
      "30/9/16      1935\n",
      "16/10/16        3\n",
      "Name: TransactionDate, dtype: int64\n"
     ]
    }
   ],
   "source": [
    "print(df['TransactionDate'].value_counts())"
   ]
  },
  {
   "cell_type": "code",
   "execution_count": 15,
   "id": "87812dd8",
   "metadata": {},
   "outputs": [
    {
     "data": {
      "text/html": [
       "<div>\n",
       "<style scoped>\n",
       "    .dataframe tbody tr th:only-of-type {\n",
       "        vertical-align: middle;\n",
       "    }\n",
       "\n",
       "    .dataframe tbody tr th {\n",
       "        vertical-align: top;\n",
       "    }\n",
       "\n",
       "    .dataframe thead th {\n",
       "        text-align: right;\n",
       "    }\n",
       "</style>\n",
       "<table border=\"1\" class=\"dataframe\">\n",
       "  <thead>\n",
       "    <tr style=\"text-align: right;\">\n",
       "      <th></th>\n",
       "      <th>TransactionID</th>\n",
       "      <th>CustomerID</th>\n",
       "      <th>CustomerDOB</th>\n",
       "      <th>CustGender</th>\n",
       "      <th>CustLocation</th>\n",
       "      <th>CustAccountBalance</th>\n",
       "      <th>TransactionDate</th>\n",
       "      <th>TransactionTime</th>\n",
       "      <th>TransactionAmount (INR)</th>\n",
       "    </tr>\n",
       "  </thead>\n",
       "  <tbody>\n",
       "    <tr>\n",
       "      <th>count</th>\n",
       "      <td>1041614</td>\n",
       "      <td>1041614</td>\n",
       "      <td>1041614</td>\n",
       "      <td>1041614</td>\n",
       "      <td>1041614</td>\n",
       "      <td>1.041614e+06</td>\n",
       "      <td>1041614</td>\n",
       "      <td>1.041614e+06</td>\n",
       "      <td>1.041614e+06</td>\n",
       "    </tr>\n",
       "    <tr>\n",
       "      <th>unique</th>\n",
       "      <td>1041614</td>\n",
       "      <td>879358</td>\n",
       "      <td>17233</td>\n",
       "      <td>3</td>\n",
       "      <td>9275</td>\n",
       "      <td>NaN</td>\n",
       "      <td>55</td>\n",
       "      <td>NaN</td>\n",
       "      <td>NaN</td>\n",
       "    </tr>\n",
       "    <tr>\n",
       "      <th>top</th>\n",
       "      <td>T1</td>\n",
       "      <td>C5533885</td>\n",
       "      <td>1/1/1800</td>\n",
       "      <td>M</td>\n",
       "      <td>MUMBAI</td>\n",
       "      <td>NaN</td>\n",
       "      <td>7/8/16</td>\n",
       "      <td>NaN</td>\n",
       "      <td>NaN</td>\n",
       "    </tr>\n",
       "    <tr>\n",
       "      <th>freq</th>\n",
       "      <td>1</td>\n",
       "      <td>6</td>\n",
       "      <td>56292</td>\n",
       "      <td>760978</td>\n",
       "      <td>101997</td>\n",
       "      <td>NaN</td>\n",
       "      <td>27084</td>\n",
       "      <td>NaN</td>\n",
       "      <td>NaN</td>\n",
       "    </tr>\n",
       "    <tr>\n",
       "      <th>mean</th>\n",
       "      <td>NaN</td>\n",
       "      <td>NaN</td>\n",
       "      <td>NaN</td>\n",
       "      <td>NaN</td>\n",
       "      <td>NaN</td>\n",
       "      <td>1.149986e+05</td>\n",
       "      <td>NaN</td>\n",
       "      <td>1.571221e+05</td>\n",
       "      <td>1.566096e+03</td>\n",
       "    </tr>\n",
       "    <tr>\n",
       "      <th>std</th>\n",
       "      <td>NaN</td>\n",
       "      <td>NaN</td>\n",
       "      <td>NaN</td>\n",
       "      <td>NaN</td>\n",
       "      <td>NaN</td>\n",
       "      <td>8.467609e+05</td>\n",
       "      <td>NaN</td>\n",
       "      <td>5.126352e+04</td>\n",
       "      <td>6.561464e+03</td>\n",
       "    </tr>\n",
       "    <tr>\n",
       "      <th>min</th>\n",
       "      <td>NaN</td>\n",
       "      <td>NaN</td>\n",
       "      <td>NaN</td>\n",
       "      <td>NaN</td>\n",
       "      <td>NaN</td>\n",
       "      <td>0.000000e+00</td>\n",
       "      <td>NaN</td>\n",
       "      <td>0.000000e+00</td>\n",
       "      <td>0.000000e+00</td>\n",
       "    </tr>\n",
       "    <tr>\n",
       "      <th>25%</th>\n",
       "      <td>NaN</td>\n",
       "      <td>NaN</td>\n",
       "      <td>NaN</td>\n",
       "      <td>NaN</td>\n",
       "      <td>NaN</td>\n",
       "      <td>4.728140e+03</td>\n",
       "      <td>NaN</td>\n",
       "      <td>1.240410e+05</td>\n",
       "      <td>1.600000e+02</td>\n",
       "    </tr>\n",
       "    <tr>\n",
       "      <th>50%</th>\n",
       "      <td>NaN</td>\n",
       "      <td>NaN</td>\n",
       "      <td>NaN</td>\n",
       "      <td>NaN</td>\n",
       "      <td>NaN</td>\n",
       "      <td>1.676852e+04</td>\n",
       "      <td>NaN</td>\n",
       "      <td>1.642470e+05</td>\n",
       "      <td>4.575000e+02</td>\n",
       "    </tr>\n",
       "    <tr>\n",
       "      <th>75%</th>\n",
       "      <td>NaN</td>\n",
       "      <td>NaN</td>\n",
       "      <td>NaN</td>\n",
       "      <td>NaN</td>\n",
       "      <td>NaN</td>\n",
       "      <td>5.742885e+04</td>\n",
       "      <td>NaN</td>\n",
       "      <td>2.000220e+05</td>\n",
       "      <td>1.200000e+03</td>\n",
       "    </tr>\n",
       "    <tr>\n",
       "      <th>max</th>\n",
       "      <td>NaN</td>\n",
       "      <td>NaN</td>\n",
       "      <td>NaN</td>\n",
       "      <td>NaN</td>\n",
       "      <td>NaN</td>\n",
       "      <td>1.150355e+08</td>\n",
       "      <td>NaN</td>\n",
       "      <td>2.359590e+05</td>\n",
       "      <td>1.560035e+06</td>\n",
       "    </tr>\n",
       "  </tbody>\n",
       "</table>\n",
       "</div>"
      ],
      "text/plain": [
       "       TransactionID CustomerID CustomerDOB CustGender CustLocation  \\\n",
       "count        1041614    1041614     1041614    1041614      1041614   \n",
       "unique       1041614     879358       17233          3         9275   \n",
       "top               T1   C5533885    1/1/1800          M       MUMBAI   \n",
       "freq               1          6       56292     760978       101997   \n",
       "mean             NaN        NaN         NaN        NaN          NaN   \n",
       "std              NaN        NaN         NaN        NaN          NaN   \n",
       "min              NaN        NaN         NaN        NaN          NaN   \n",
       "25%              NaN        NaN         NaN        NaN          NaN   \n",
       "50%              NaN        NaN         NaN        NaN          NaN   \n",
       "75%              NaN        NaN         NaN        NaN          NaN   \n",
       "max              NaN        NaN         NaN        NaN          NaN   \n",
       "\n",
       "        CustAccountBalance TransactionDate  TransactionTime  \\\n",
       "count         1.041614e+06         1041614     1.041614e+06   \n",
       "unique                 NaN              55              NaN   \n",
       "top                    NaN          7/8/16              NaN   \n",
       "freq                   NaN           27084              NaN   \n",
       "mean          1.149986e+05             NaN     1.571221e+05   \n",
       "std           8.467609e+05             NaN     5.126352e+04   \n",
       "min           0.000000e+00             NaN     0.000000e+00   \n",
       "25%           4.728140e+03             NaN     1.240410e+05   \n",
       "50%           1.676852e+04             NaN     1.642470e+05   \n",
       "75%           5.742885e+04             NaN     2.000220e+05   \n",
       "max           1.150355e+08             NaN     2.359590e+05   \n",
       "\n",
       "        TransactionAmount (INR)  \n",
       "count              1.041614e+06  \n",
       "unique                      NaN  \n",
       "top                         NaN  \n",
       "freq                        NaN  \n",
       "mean               1.566096e+03  \n",
       "std                6.561464e+03  \n",
       "min                0.000000e+00  \n",
       "25%                1.600000e+02  \n",
       "50%                4.575000e+02  \n",
       "75%                1.200000e+03  \n",
       "max                1.560035e+06  "
      ]
     },
     "execution_count": 15,
     "metadata": {},
     "output_type": "execute_result"
    }
   ],
   "source": [
    "df.describe(include = 'all')"
   ]
  },
  {
   "cell_type": "code",
   "execution_count": 16,
   "id": "8c3afaed",
   "metadata": {},
   "outputs": [
    {
     "data": {
      "text/html": [
       "<div>\n",
       "<style scoped>\n",
       "    .dataframe tbody tr th:only-of-type {\n",
       "        vertical-align: middle;\n",
       "    }\n",
       "\n",
       "    .dataframe tbody tr th {\n",
       "        vertical-align: top;\n",
       "    }\n",
       "\n",
       "    .dataframe thead th {\n",
       "        text-align: right;\n",
       "    }\n",
       "</style>\n",
       "<table border=\"1\" class=\"dataframe\">\n",
       "  <thead>\n",
       "    <tr style=\"text-align: right;\">\n",
       "      <th></th>\n",
       "      <th>CustAccountBalance</th>\n",
       "      <th>TransactionTime</th>\n",
       "      <th>TransactionAmount (INR)</th>\n",
       "    </tr>\n",
       "  </thead>\n",
       "  <tbody>\n",
       "    <tr>\n",
       "      <th>count</th>\n",
       "      <td>1.041614e+06</td>\n",
       "      <td>1.041614e+06</td>\n",
       "      <td>1.041614e+06</td>\n",
       "    </tr>\n",
       "    <tr>\n",
       "      <th>mean</th>\n",
       "      <td>1.149986e+05</td>\n",
       "      <td>1.571221e+05</td>\n",
       "      <td>1.566096e+03</td>\n",
       "    </tr>\n",
       "    <tr>\n",
       "      <th>std</th>\n",
       "      <td>8.467609e+05</td>\n",
       "      <td>5.126352e+04</td>\n",
       "      <td>6.561464e+03</td>\n",
       "    </tr>\n",
       "    <tr>\n",
       "      <th>min</th>\n",
       "      <td>0.000000e+00</td>\n",
       "      <td>0.000000e+00</td>\n",
       "      <td>0.000000e+00</td>\n",
       "    </tr>\n",
       "    <tr>\n",
       "      <th>25%</th>\n",
       "      <td>4.728140e+03</td>\n",
       "      <td>1.240410e+05</td>\n",
       "      <td>1.600000e+02</td>\n",
       "    </tr>\n",
       "    <tr>\n",
       "      <th>50%</th>\n",
       "      <td>1.676852e+04</td>\n",
       "      <td>1.642470e+05</td>\n",
       "      <td>4.575000e+02</td>\n",
       "    </tr>\n",
       "    <tr>\n",
       "      <th>75%</th>\n",
       "      <td>5.742885e+04</td>\n",
       "      <td>2.000220e+05</td>\n",
       "      <td>1.200000e+03</td>\n",
       "    </tr>\n",
       "    <tr>\n",
       "      <th>max</th>\n",
       "      <td>1.150355e+08</td>\n",
       "      <td>2.359590e+05</td>\n",
       "      <td>1.560035e+06</td>\n",
       "    </tr>\n",
       "  </tbody>\n",
       "</table>\n",
       "</div>"
      ],
      "text/plain": [
       "       CustAccountBalance  TransactionTime  TransactionAmount (INR)\n",
       "count        1.041614e+06     1.041614e+06             1.041614e+06\n",
       "mean         1.149986e+05     1.571221e+05             1.566096e+03\n",
       "std          8.467609e+05     5.126352e+04             6.561464e+03\n",
       "min          0.000000e+00     0.000000e+00             0.000000e+00\n",
       "25%          4.728140e+03     1.240410e+05             1.600000e+02\n",
       "50%          1.676852e+04     1.642470e+05             4.575000e+02\n",
       "75%          5.742885e+04     2.000220e+05             1.200000e+03\n",
       "max          1.150355e+08     2.359590e+05             1.560035e+06"
      ]
     },
     "execution_count": 16,
     "metadata": {},
     "output_type": "execute_result"
    }
   ],
   "source": [
    "df.describe()"
   ]
  },
  {
   "cell_type": "code",
   "execution_count": 17,
   "id": "ff5ee01f",
   "metadata": {},
   "outputs": [
    {
     "name": "stdout",
     "output_type": "stream",
     "text": [
      "                         CustAccountBalance  TransactionTime  \\\n",
      "CustAccountBalance                 1.000000        -0.004012   \n",
      "TransactionTime                   -0.004012         1.000000   \n",
      "TransactionAmount (INR)            0.062692         0.008296   \n",
      "\n",
      "                         TransactionAmount (INR)  \n",
      "CustAccountBalance                      0.062692  \n",
      "TransactionTime                         0.008296  \n",
      "TransactionAmount (INR)                 1.000000  \n"
     ]
    }
   ],
   "source": [
    "corr = (df.corr())\n",
    "print(corr)"
   ]
  },
  {
   "cell_type": "markdown",
   "id": "a8a235da",
   "metadata": {},
   "source": [
    "### Data Cleaning "
   ]
  },
  {
   "cell_type": "code",
   "execution_count": 18,
   "id": "42665936",
   "metadata": {},
   "outputs": [
    {
     "data": {
      "text/plain": [
       "TransactionID              0\n",
       "CustomerID                 0\n",
       "CustomerDOB                0\n",
       "CustGender                 0\n",
       "CustLocation               0\n",
       "CustAccountBalance         0\n",
       "TransactionDate            0\n",
       "TransactionTime            0\n",
       "TransactionAmount (INR)    0\n",
       "dtype: int64"
      ]
     },
     "execution_count": 18,
     "metadata": {},
     "output_type": "execute_result"
    }
   ],
   "source": [
    "df.isnull().sum()"
   ]
  },
  {
   "cell_type": "code",
   "execution_count": 19,
   "id": "5aabee27",
   "metadata": {},
   "outputs": [],
   "source": [
    "# converting TransactionDate and CustomerDOB to datetime format\n",
    "df['TransactionDate'] = pd.to_datetime(df['TransactionDate'], format='%d/%m/%y')\n",
    "df['CustomerDOB'] = pd.to_datetime(df['CustomerDOB'], errors='coerce')                          "
   ]
  },
  {
   "cell_type": "code",
   "execution_count": 20,
   "id": "789ed8f3",
   "metadata": {},
   "outputs": [
    {
     "data": {
      "text/plain": [
       "0   2016-08-02\n",
       "1   2016-08-02\n",
       "2   2016-08-02\n",
       "Name: TransactionDate, dtype: datetime64[ns]"
      ]
     },
     "execution_count": 20,
     "metadata": {},
     "output_type": "execute_result"
    }
   ],
   "source": [
    "df['TransactionDate'].head(3)"
   ]
  },
  {
   "cell_type": "code",
   "execution_count": 21,
   "id": "99320f17",
   "metadata": {
    "scrolled": false
   },
   "outputs": [
    {
     "data": {
      "text/plain": [
       "array(['2016-08-02T00:00:00.000000000', '2016-08-01T00:00:00.000000000',\n",
       "       '2016-08-03T00:00:00.000000000', '2016-08-05T00:00:00.000000000',\n",
       "       '2016-08-04T00:00:00.000000000', '2016-08-06T00:00:00.000000000',\n",
       "       '2016-08-09T00:00:00.000000000', '2016-08-08T00:00:00.000000000',\n",
       "       '2016-08-12T00:00:00.000000000', '2016-08-07T00:00:00.000000000',\n",
       "       '2016-10-21T00:00:00.000000000', '2016-10-16T00:00:00.000000000',\n",
       "       '2016-08-10T00:00:00.000000000', '2016-08-14T00:00:00.000000000',\n",
       "       '2016-08-17T00:00:00.000000000', '2016-08-21T00:00:00.000000000',\n",
       "       '2016-08-19T00:00:00.000000000', '2016-08-24T00:00:00.000000000',\n",
       "       '2016-08-22T00:00:00.000000000', '2016-08-29T00:00:00.000000000',\n",
       "       '2016-08-31T00:00:00.000000000', '2016-09-22T00:00:00.000000000',\n",
       "       '2016-09-23T00:00:00.000000000', '2016-08-13T00:00:00.000000000',\n",
       "       '2016-08-25T00:00:00.000000000', '2016-08-28T00:00:00.000000000',\n",
       "       '2016-08-15T00:00:00.000000000', '2016-08-27T00:00:00.000000000',\n",
       "       '2016-08-20T00:00:00.000000000', '2016-08-23T00:00:00.000000000',\n",
       "       '2016-08-30T00:00:00.000000000', '2016-08-11T00:00:00.000000000',\n",
       "       '2016-08-16T00:00:00.000000000', '2016-08-26T00:00:00.000000000',\n",
       "       '2016-09-27T00:00:00.000000000', '2016-08-18T00:00:00.000000000',\n",
       "       '2016-09-25T00:00:00.000000000', '2016-09-26T00:00:00.000000000',\n",
       "       '2016-09-30T00:00:00.000000000', '2016-09-03T00:00:00.000000000',\n",
       "       '2016-09-02T00:00:00.000000000', '2016-09-01T00:00:00.000000000',\n",
       "       '2016-09-06T00:00:00.000000000', '2016-09-05T00:00:00.000000000',\n",
       "       '2016-09-04T00:00:00.000000000', '2016-09-09T00:00:00.000000000',\n",
       "       '2016-09-08T00:00:00.000000000', '2016-09-07T00:00:00.000000000',\n",
       "       '2016-09-12T00:00:00.000000000', '2016-09-11T00:00:00.000000000',\n",
       "       '2016-09-10T00:00:00.000000000', '2016-09-15T00:00:00.000000000',\n",
       "       '2016-09-14T00:00:00.000000000', '2016-09-13T00:00:00.000000000',\n",
       "       '2016-09-18T00:00:00.000000000'], dtype='datetime64[ns]')"
      ]
     },
     "execution_count": 21,
     "metadata": {},
     "output_type": "execute_result"
    }
   ],
   "source": [
    "df['TransactionDate'].unique()"
   ]
  },
  {
   "cell_type": "code",
   "execution_count": 22,
   "id": "c518e3d2",
   "metadata": {},
   "outputs": [],
   "source": [
    "# Display in dd/mm/yyyy format\n",
    "# df['TransactionDate'] = df['TransactionDate'].dt.strftime('%d/%m/%Y')\n",
    "# df['TransactionDate'].head(3)"
   ]
  },
  {
   "cell_type": "code",
   "execution_count": 23,
   "id": "68e8ce5a",
   "metadata": {},
   "outputs": [
    {
     "name": "stdout",
     "output_type": "stream",
     "text": [
      "0\n"
     ]
    }
   ],
   "source": [
    "# Check how many entries were converted to NaT\n",
    "print(df['CustomerDOB'].isnull().sum())"
   ]
  },
  {
   "cell_type": "code",
   "execution_count": 24,
   "id": "2f60fc9e",
   "metadata": {},
   "outputs": [
    {
     "data": {
      "text/plain": [
       "0   1994-10-01\n",
       "1   2057-04-04\n",
       "2   1996-11-26\n",
       "3   2073-09-14\n",
       "4   1988-03-24\n",
       "Name: CustomerDOB, dtype: datetime64[ns]"
      ]
     },
     "execution_count": 24,
     "metadata": {},
     "output_type": "execute_result"
    }
   ],
   "source": [
    "df['CustomerDOB'].head()"
   ]
  },
  {
   "cell_type": "code",
   "execution_count": 25,
   "id": "faac4776",
   "metadata": {},
   "outputs": [
    {
     "data": {
      "text/plain": [
       "array(['1994-10-01T00:00:00.000000000', '2057-04-04T00:00:00.000000000',\n",
       "       '1996-11-26T00:00:00.000000000', ...,\n",
       "       '2065-07-18T00:00:00.000000000', '2042-05-15T00:00:00.000000000',\n",
       "       '2044-10-24T00:00:00.000000000'], dtype='datetime64[ns]')"
      ]
     },
     "execution_count": 25,
     "metadata": {},
     "output_type": "execute_result"
    }
   ],
   "source": [
    "df['CustomerDOB'].unique()"
   ]
  },
  {
   "cell_type": "code",
   "execution_count": 26,
   "id": "48cf4226",
   "metadata": {},
   "outputs": [],
   "source": [
    "# Display in dd/mm/yyyy format\n",
    "# df['CustomerDOB'] = df['CustomerDOB'].dt.strftime('%d/%m/%Y')\n",
    "# df['CustomerDOB'].head(3)"
   ]
  },
  {
   "cell_type": "code",
   "execution_count": 27,
   "id": "4e61319a",
   "metadata": {},
   "outputs": [
    {
     "data": {
      "text/plain": [
       "array(['1994-10-01T00:00:00.000000000', '2057-04-04T00:00:00.000000000',\n",
       "       '1996-11-26T00:00:00.000000000', ...,\n",
       "       '2065-07-18T00:00:00.000000000', '2042-05-15T00:00:00.000000000',\n",
       "       '2044-10-24T00:00:00.000000000'], dtype='datetime64[ns]')"
      ]
     },
     "execution_count": 27,
     "metadata": {},
     "output_type": "execute_result"
    }
   ],
   "source": [
    "df['CustomerDOB'].unique()"
   ]
  },
  {
   "cell_type": "code",
   "execution_count": 28,
   "id": "afad4766",
   "metadata": {},
   "outputs": [],
   "source": [
    "# Calculating customers age and creating a new column for it\n",
    "def age_calculation(df):\n",
    "    df['Age'] = df['TransactionDate'].dt.year - df['CustomerDOB'].dt.year\n",
    "    return df"
   ]
  },
  {
   "cell_type": "code",
   "execution_count": 29,
   "id": "51e6c9b3",
   "metadata": {},
   "outputs": [],
   "source": [
    "# def parse_dates(date_str):\n",
    "#     # If the input is already a Timestamp, return it\n",
    "#     if isinstance(date_str, pd.Timestamp):\n",
    "#         return date_str\n",
    "#     # Keep only the date part for strings\n",
    "#     date_str = str(date_str).split()[0]  # Convert to string and keep only the date part\n",
    "#     formats = ['%d/%m/%Y', '%d/%m/%y', '%Y-%m-%d', '%m/%d/%Y']\n",
    "#     for fmt in formats:\n",
    "#         try:\n",
    "#             return pd.to_datetime(date_str, format=fmt)\n",
    "#         except ValueError:\n",
    "#             continue\n",
    "#     return pd.NaT  # Return NaT if no formats match"
   ]
  },
  {
   "cell_type": "code",
   "execution_count": 30,
   "id": "b14ee62a",
   "metadata": {},
   "outputs": [],
   "source": [
    "# def age_calculation(df):\n",
    "#     df['TransactionDate'] = df['TransactionDate'].apply(parse_dates)\n",
    "#     df['CustomerDOB'] = df['CustomerDOB'].apply(parse_dates)\n",
    "#     df['Age'] = df['TransactionDate'].dt.year - df['CustomerDOB'].dt.year\n",
    "#     return df"
   ]
  },
  {
   "cell_type": "code",
   "execution_count": 31,
   "id": "48fb5df9",
   "metadata": {},
   "outputs": [
    {
     "data": {
      "text/html": [
       "<div>\n",
       "<style scoped>\n",
       "    .dataframe tbody tr th:only-of-type {\n",
       "        vertical-align: middle;\n",
       "    }\n",
       "\n",
       "    .dataframe tbody tr th {\n",
       "        vertical-align: top;\n",
       "    }\n",
       "\n",
       "    .dataframe thead th {\n",
       "        text-align: right;\n",
       "    }\n",
       "</style>\n",
       "<table border=\"1\" class=\"dataframe\">\n",
       "  <thead>\n",
       "    <tr style=\"text-align: right;\">\n",
       "      <th></th>\n",
       "      <th>TransactionID</th>\n",
       "      <th>CustomerID</th>\n",
       "      <th>CustomerDOB</th>\n",
       "      <th>CustGender</th>\n",
       "      <th>CustLocation</th>\n",
       "      <th>CustAccountBalance</th>\n",
       "      <th>TransactionDate</th>\n",
       "      <th>TransactionTime</th>\n",
       "      <th>TransactionAmount (INR)</th>\n",
       "      <th>Age</th>\n",
       "    </tr>\n",
       "  </thead>\n",
       "  <tbody>\n",
       "    <tr>\n",
       "      <th>0</th>\n",
       "      <td>T1</td>\n",
       "      <td>C5841053</td>\n",
       "      <td>1994-10-01</td>\n",
       "      <td>F</td>\n",
       "      <td>JAMSHEDPUR</td>\n",
       "      <td>17819.05</td>\n",
       "      <td>2016-08-02</td>\n",
       "      <td>143207</td>\n",
       "      <td>25.0</td>\n",
       "      <td>22</td>\n",
       "    </tr>\n",
       "    <tr>\n",
       "      <th>1</th>\n",
       "      <td>T2</td>\n",
       "      <td>C2142763</td>\n",
       "      <td>2057-04-04</td>\n",
       "      <td>M</td>\n",
       "      <td>JHAJJAR</td>\n",
       "      <td>2270.69</td>\n",
       "      <td>2016-08-02</td>\n",
       "      <td>141858</td>\n",
       "      <td>27999.0</td>\n",
       "      <td>-41</td>\n",
       "    </tr>\n",
       "    <tr>\n",
       "      <th>2</th>\n",
       "      <td>T3</td>\n",
       "      <td>C4417068</td>\n",
       "      <td>1996-11-26</td>\n",
       "      <td>F</td>\n",
       "      <td>MUMBAI</td>\n",
       "      <td>17874.44</td>\n",
       "      <td>2016-08-02</td>\n",
       "      <td>142712</td>\n",
       "      <td>459.0</td>\n",
       "      <td>20</td>\n",
       "    </tr>\n",
       "  </tbody>\n",
       "</table>\n",
       "</div>"
      ],
      "text/plain": [
       "  TransactionID CustomerID CustomerDOB CustGender CustLocation  \\\n",
       "0            T1   C5841053  1994-10-01          F   JAMSHEDPUR   \n",
       "1            T2   C2142763  2057-04-04          M      JHAJJAR   \n",
       "2            T3   C4417068  1996-11-26          F       MUMBAI   \n",
       "\n",
       "   CustAccountBalance TransactionDate  TransactionTime  \\\n",
       "0            17819.05      2016-08-02           143207   \n",
       "1             2270.69      2016-08-02           141858   \n",
       "2            17874.44      2016-08-02           142712   \n",
       "\n",
       "   TransactionAmount (INR)  Age  \n",
       "0                     25.0   22  \n",
       "1                  27999.0  -41  \n",
       "2                    459.0   20  "
      ]
     },
     "execution_count": 31,
     "metadata": {},
     "output_type": "execute_result"
    }
   ],
   "source": [
    "# Load the dataset\n",
    "# df = pd.read_csv('../Data/bank_data.csv')\n",
    "\n",
    "# Call the function\n",
    "df = age_calculation(df)\n",
    "\n",
    "# Display the first three rows\n",
    "# print(df.head(3))\n",
    "df.head(3)"
   ]
  },
  {
   "cell_type": "code",
   "execution_count": 32,
   "id": "6c99b1e6",
   "metadata": {},
   "outputs": [
    {
     "data": {
      "text/plain": [
       "1         2057-04-04\n",
       "3         2073-09-14\n",
       "5         2072-08-10\n",
       "15        2068-10-07\n",
       "29        2067-01-21\n",
       "             ...    \n",
       "1041553   2070-09-20\n",
       "1041557   2048-07-15\n",
       "1041583   2033-05-10\n",
       "1041591   2071-05-10\n",
       "1041599   2071-08-21\n",
       "Name: CustomerDOB, Length: 104836, dtype: datetime64[ns]"
      ]
     },
     "execution_count": 32,
     "metadata": {},
     "output_type": "execute_result"
    }
   ],
   "source": [
    "# observing the wrong date of birth with negative sign\n",
    "df[df['Age'] <= 0]['CustomerDOB']"
   ]
  },
  {
   "cell_type": "code",
   "execution_count": 33,
   "id": "6f3ca493",
   "metadata": {},
   "outputs": [],
   "source": [
    "# writing a function to correct negative age by adjusting date of birth\n",
    "def Rewrite_year(date):\n",
    "    if date.year > 2016:\n",
    "        date = date.replace(year = date.year -100)\n",
    "    return date"
   ]
  },
  {
   "cell_type": "code",
   "execution_count": 34,
   "id": "5aa8c8df",
   "metadata": {},
   "outputs": [],
   "source": [
    "df['CustomerDOB'] = df['CustomerDOB'].apply(Rewrite_year)"
   ]
  },
  {
   "cell_type": "code",
   "execution_count": 35,
   "id": "13cdaa95",
   "metadata": {},
   "outputs": [],
   "source": [
    "# def age_calculation(df):\n",
    "#     df['TransactionDate'] = df['TransactionDate'].apply(parse_dates)\n",
    "#     df['CustomerDOB'] = df['CustomerDOB'].apply(parse_dates)\n",
    "#     df['Age'] = df['TransactionDate'].dt.year - df['CustomerDOB'].dt.year\n",
    "#     return df"
   ]
  },
  {
   "cell_type": "code",
   "execution_count": 36,
   "id": "b7fb5f13",
   "metadata": {},
   "outputs": [
    {
     "data": {
      "text/html": [
       "<div>\n",
       "<style scoped>\n",
       "    .dataframe tbody tr th:only-of-type {\n",
       "        vertical-align: middle;\n",
       "    }\n",
       "\n",
       "    .dataframe tbody tr th {\n",
       "        vertical-align: top;\n",
       "    }\n",
       "\n",
       "    .dataframe thead th {\n",
       "        text-align: right;\n",
       "    }\n",
       "</style>\n",
       "<table border=\"1\" class=\"dataframe\">\n",
       "  <thead>\n",
       "    <tr style=\"text-align: right;\">\n",
       "      <th></th>\n",
       "      <th>TransactionID</th>\n",
       "      <th>CustomerID</th>\n",
       "      <th>CustomerDOB</th>\n",
       "      <th>CustGender</th>\n",
       "      <th>CustLocation</th>\n",
       "      <th>CustAccountBalance</th>\n",
       "      <th>TransactionDate</th>\n",
       "      <th>TransactionTime</th>\n",
       "      <th>TransactionAmount (INR)</th>\n",
       "      <th>Age</th>\n",
       "    </tr>\n",
       "  </thead>\n",
       "  <tbody>\n",
       "    <tr>\n",
       "      <th>0</th>\n",
       "      <td>T1</td>\n",
       "      <td>C5841053</td>\n",
       "      <td>1994-10-01</td>\n",
       "      <td>F</td>\n",
       "      <td>JAMSHEDPUR</td>\n",
       "      <td>17819.05</td>\n",
       "      <td>2016-08-02</td>\n",
       "      <td>143207</td>\n",
       "      <td>25.0</td>\n",
       "      <td>22</td>\n",
       "    </tr>\n",
       "    <tr>\n",
       "      <th>1</th>\n",
       "      <td>T2</td>\n",
       "      <td>C2142763</td>\n",
       "      <td>1957-04-04</td>\n",
       "      <td>M</td>\n",
       "      <td>JHAJJAR</td>\n",
       "      <td>2270.69</td>\n",
       "      <td>2016-08-02</td>\n",
       "      <td>141858</td>\n",
       "      <td>27999.0</td>\n",
       "      <td>59</td>\n",
       "    </tr>\n",
       "    <tr>\n",
       "      <th>2</th>\n",
       "      <td>T3</td>\n",
       "      <td>C4417068</td>\n",
       "      <td>1996-11-26</td>\n",
       "      <td>F</td>\n",
       "      <td>MUMBAI</td>\n",
       "      <td>17874.44</td>\n",
       "      <td>2016-08-02</td>\n",
       "      <td>142712</td>\n",
       "      <td>459.0</td>\n",
       "      <td>20</td>\n",
       "    </tr>\n",
       "    <tr>\n",
       "      <th>3</th>\n",
       "      <td>T4</td>\n",
       "      <td>C5342380</td>\n",
       "      <td>1973-09-14</td>\n",
       "      <td>F</td>\n",
       "      <td>MUMBAI</td>\n",
       "      <td>866503.21</td>\n",
       "      <td>2016-08-02</td>\n",
       "      <td>142714</td>\n",
       "      <td>2060.0</td>\n",
       "      <td>43</td>\n",
       "    </tr>\n",
       "    <tr>\n",
       "      <th>4</th>\n",
       "      <td>T5</td>\n",
       "      <td>C9031234</td>\n",
       "      <td>1988-03-24</td>\n",
       "      <td>F</td>\n",
       "      <td>NAVI MUMBAI</td>\n",
       "      <td>6714.43</td>\n",
       "      <td>2016-08-02</td>\n",
       "      <td>181156</td>\n",
       "      <td>1762.5</td>\n",
       "      <td>28</td>\n",
       "    </tr>\n",
       "  </tbody>\n",
       "</table>\n",
       "</div>"
      ],
      "text/plain": [
       "  TransactionID CustomerID CustomerDOB CustGender CustLocation  \\\n",
       "0            T1   C5841053  1994-10-01          F   JAMSHEDPUR   \n",
       "1            T2   C2142763  1957-04-04          M      JHAJJAR   \n",
       "2            T3   C4417068  1996-11-26          F       MUMBAI   \n",
       "3            T4   C5342380  1973-09-14          F       MUMBAI   \n",
       "4            T5   C9031234  1988-03-24          F  NAVI MUMBAI   \n",
       "\n",
       "   CustAccountBalance TransactionDate  TransactionTime  \\\n",
       "0            17819.05      2016-08-02           143207   \n",
       "1             2270.69      2016-08-02           141858   \n",
       "2            17874.44      2016-08-02           142712   \n",
       "3           866503.21      2016-08-02           142714   \n",
       "4             6714.43      2016-08-02           181156   \n",
       "\n",
       "   TransactionAmount (INR)  Age  \n",
       "0                     25.0   22  \n",
       "1                  27999.0   59  \n",
       "2                    459.0   20  \n",
       "3                   2060.0   43  \n",
       "4                   1762.5   28  "
      ]
     },
     "execution_count": 36,
     "metadata": {},
     "output_type": "execute_result"
    }
   ],
   "source": [
    "# Load the dataset\n",
    "# df = pd.read_csv('../Data/bank_data.csv')\n",
    "\n",
    "# Call the function\n",
    "df = age_calculation(df)\n",
    "\n",
    "# Display the first three rows\n",
    "# print(df.head(3))\n",
    "df.head()"
   ]
  },
  {
   "cell_type": "code",
   "execution_count": null,
   "id": "656e6024",
   "metadata": {},
   "outputs": [],
   "source": [
    "# observing Age distribution using histogram plot\n",
    "\n",
    "plt.figure(figsize=(10, 6))\n",
    "sns.histplot(df['Age'], bins=20, kde=True)  # Use bins to adjust the granularity\n",
    "plt.title('Age Distribution')\n",
    "plt.xlabel('Age')\n",
    "plt.ylabel('Frequency')\n",
    "plt.grid(True)\n",
    "plt.show()"
   ]
  },
  {
   "cell_type": "code",
   "execution_count": null,
   "id": "5251d016",
   "metadata": {},
   "outputs": [],
   "source": [
    "df[df['Age']> 100] ['CustomerDOB'].unique()"
   ]
  },
  {
   "cell_type": "code",
   "execution_count": null,
   "id": "f42594d9",
   "metadata": {},
   "outputs": [],
   "source": [
    "# Fixing Age outliers \n",
    "\n",
    "def age_outlier_correction(df):\n",
    "    DOB_threshold = 1900\n",
    "    Age_outliers = df[df['CustomerDOB'].dt.year < DOB_threshold].index\n",
    "    mean_DOB = df[~df.index.isin(Age_outliers)]['CustomerDOB'].mean()\n",
    "    df.loc[Age_outliers, 'CustomerDOB'] = mean_DOB\n",
    "    return df"
   ]
  },
  {
   "cell_type": "code",
   "execution_count": null,
   "id": "c270776a",
   "metadata": {
    "scrolled": true
   },
   "outputs": [],
   "source": [
    "df = age_outlier_correction(df)\n",
    "df = age_calculation(df)"
   ]
  },
  {
   "cell_type": "code",
   "execution_count": null,
   "id": "56c08bc4",
   "metadata": {},
   "outputs": [],
   "source": [
    "df.head()"
   ]
  },
  {
   "cell_type": "code",
   "execution_count": null,
   "id": "dfae9433",
   "metadata": {
    "scrolled": false
   },
   "outputs": [],
   "source": [
    "# observing Age distribution using histogram plot\n",
    "\n",
    "plt.figure(figsize=(10, 6))\n",
    "sns.histplot(df['Age'], bins=20, kde=True)  # Use bins to adjust the granularity\n",
    "plt.title('Age Distribution')\n",
    "plt.xlabel('Age')\n",
    "plt.ylabel('Frequency')\n",
    "plt.grid(True)\n",
    "plt.show()"
   ]
  },
  {
   "cell_type": "markdown",
   "id": "f49346cb",
   "metadata": {},
   "source": [
    " Gender Column"
   ]
  },
  {
   "cell_type": "code",
   "execution_count": null,
   "id": "e257156a",
   "metadata": {},
   "outputs": [],
   "source": [
    "df['CustGender'].value_counts()"
   ]
  },
  {
   "cell_type": "code",
   "execution_count": null,
   "id": "a75d92a3",
   "metadata": {},
   "outputs": [],
   "source": [
    "# Replacing with T with M\n",
    "\n",
    "df['CustGender'] = df['CustGender'].replace('T', 'M')\n",
    "df['CustGender'].value_counts()"
   ]
  },
  {
   "cell_type": "markdown",
   "id": "907ed9f1",
   "metadata": {},
   "source": [
    "Location Column"
   ]
  },
  {
   "cell_type": "code",
   "execution_count": null,
   "id": "36fa5315",
   "metadata": {},
   "outputs": [],
   "source": [
    "df['CustLocation'].unique()"
   ]
  },
  {
   "cell_type": "code",
   "execution_count": null,
   "id": "2d8b5bd8",
   "metadata": {},
   "outputs": [],
   "source": [
    "df['CustLocation'].value_counts()"
   ]
  },
  {
   "cell_type": "markdown",
   "id": "17aad766",
   "metadata": {},
   "source": [
    "Account balance Column"
   ]
  },
  {
   "cell_type": "code",
   "execution_count": null,
   "id": "3350637f",
   "metadata": {},
   "outputs": [],
   "source": [
    "df['CustAccountBalance'].sort_values(ascending = True)"
   ]
  },
  {
   "cell_type": "markdown",
   "id": "6b2e0a28",
   "metadata": {},
   "source": [
    "Transaction amount Column"
   ]
  },
  {
   "cell_type": "code",
   "execution_count": null,
   "id": "4bd80f56",
   "metadata": {},
   "outputs": [],
   "source": [
    "df[df['TransactionAmount (INR)'] == 0].value_counts().sum()"
   ]
  },
  {
   "cell_type": "code",
   "execution_count": null,
   "id": "32af64de",
   "metadata": {},
   "outputs": [],
   "source": [
    "df.drop(df[df['TransactionAmount (INR)'] == 0].index.tolist(), axis = 0, inplace = True )"
   ]
  },
  {
   "cell_type": "code",
   "execution_count": null,
   "id": "ed33f64c",
   "metadata": {},
   "outputs": [],
   "source": [
    "df['CustAccountBalance'].sort_values(ascending = True)"
   ]
  },
  {
   "cell_type": "code",
   "execution_count": null,
   "id": "bd0766c8",
   "metadata": {},
   "outputs": [],
   "source": [
    "df[df['TransactionAmount (INR)'] == 0].value_counts().sum()"
   ]
  },
  {
   "cell_type": "markdown",
   "id": "16207486",
   "metadata": {},
   "source": [
    "Viewing cleaned data for Analysis"
   ]
  },
  {
   "cell_type": "code",
   "execution_count": null,
   "id": "2b55eafe",
   "metadata": {},
   "outputs": [],
   "source": [
    "df.head()"
   ]
  },
  {
   "cell_type": "markdown",
   "id": "e72ff5d0",
   "metadata": {},
   "source": [
    "### Exploratory Data Analysis "
   ]
  },
  {
   "cell_type": "code",
   "execution_count": null,
   "id": "b1e2ff54",
   "metadata": {},
   "outputs": [],
   "source": [
    "df['CustomerID'].nunique()"
   ]
  },
  {
   "cell_type": "code",
   "execution_count": null,
   "id": "ffba2d61",
   "metadata": {},
   "outputs": [],
   "source": [
    "df.shape"
   ]
  },
  {
   "cell_type": "code",
   "execution_count": null,
   "id": "115c0e13",
   "metadata": {},
   "outputs": [],
   "source": [
    "# observing TransactionDate distribution using histogram plot\n",
    "\n",
    "plt.figure(figsize=(10, 6))\n",
    "sns.histplot(df['TransactionDate'], bins=20, kde=True)  # Use bins to adjust the granularity\n",
    "plt.title('TransactionDate Distribution')\n",
    "plt.xlabel('TransactionDate')\n",
    "plt.ylabel('Frequency')\n",
    "plt.grid(True)\n",
    "plt.show()"
   ]
  },
  {
   "cell_type": "code",
   "execution_count": null,
   "id": "7d4e091b",
   "metadata": {},
   "outputs": [],
   "source": [
    "plt.figure(figsize=(10, 6))\n",
    "sns.histplot(df['TransactionDate'], bins=3, kde=True)  # Use bins to adjust the granularity\n",
    "plt.title('TransactionDate Distribution')\n",
    "plt.xlabel('TransactionDate')\n",
    "plt.ylabel('Frequency')\n",
    "plt.grid(True)\n",
    "plt.show()"
   ]
  },
  {
   "cell_type": "markdown",
   "id": "4d0ff7a8",
   "metadata": {},
   "source": [
    "Creating Piechart for Gender count"
   ]
  },
  {
   "cell_type": "code",
   "execution_count": null,
   "id": "df822763",
   "metadata": {},
   "outputs": [],
   "source": [
    "gender_counts = df['CustGender'].value_counts()\n",
    "plt.figure(figsize=(8, 6))\n",
    "plt.pie(gender_counts, labels=gender_counts.index, autopct='%1.1f%%', startangle=140)\n",
    "plt.title('Gender Distribution')\n",
    "plt.axis('equal')  # Equal aspect ratio ensures that pie is drawn as a circle.\n",
    "plt.show()"
   ]
  },
  {
   "cell_type": "code",
   "execution_count": null,
   "id": "0304a8c4",
   "metadata": {},
   "outputs": [],
   "source": [
    "plt.figure(figsize=(8, 6))\n",
    "sns.countplot(data=df, x='CustGender')\n",
    "plt.title('Gender Distribution')\n",
    "plt.ylabel('Count')\n",
    "plt.show()"
   ]
  },
  {
   "cell_type": "markdown",
   "id": "9dea8630",
   "metadata": {},
   "source": [
    "Plots for Gender and Location"
   ]
  },
  {
   "cell_type": "code",
   "execution_count": null,
   "id": "c98e9327",
   "metadata": {},
   "outputs": [],
   "source": [
    "# Create a crosstab\n",
    "heatmap_data = pd.crosstab(df['CustGender'], df['CustLocation'])\n",
    "\n",
    "# Plotting the heatmap\n",
    "plt.figure(figsize=(8, 6))\n",
    "sns.heatmap(heatmap_data, annot=True, fmt='d', cmap='Blues', cbar=True)\n",
    "plt.title('Gender and Location Heatmap')\n",
    "plt.ylabel('Gender')\n",
    "plt.xlabel('Location')\n",
    "plt.show()"
   ]
  },
  {
   "cell_type": "code",
   "execution_count": null,
   "id": "a7897dc7",
   "metadata": {},
   "outputs": [],
   "source": [
    "# Counting occurrences of each location by gender\n",
    "location_counts = df.groupby(['CustLocation', 'CustGender']).size().reset_index(name='Count')\n",
    "\n",
    "# Getting the top 20 locations based on total counts\n",
    "top_locations = location_counts.groupby('CustLocation')['Count'].sum().nlargest(20).index\n",
    "top_location_counts = location_counts[location_counts['CustLocation'].isin(top_locations)]\n",
    "\n",
    "# Plotting the grouped bar plot\n",
    "plt.figure(figsize=(12, 6))\n",
    "sns.barplot(data=top_location_counts, x='CustLocation', y='Count', hue='CustGender')\n",
    "plt.title('Top 20 Locations for Each Gender')\n",
    "plt.ylabel('Count')\n",
    "plt.xlabel('CustLocation')\n",
    "\n",
    "# Adjusting x-axis labels\n",
    "plt.xticks(rotation=45, ha='right')  # Rotate and align to the right\n",
    "plt.legend(title='CustGender')\n",
    "plt.tight_layout()  # Adjust layout to make room for labels\n",
    "plt.show()"
   ]
  },
  {
   "cell_type": "markdown",
   "id": "777b2e3d",
   "metadata": {},
   "source": [
    "Plots for Gender Vs Account Balance"
   ]
  },
  {
   "cell_type": "code",
   "execution_count": null,
   "id": "1d00f3d3",
   "metadata": {},
   "outputs": [],
   "source": [
    "# Strip Plot\n",
    "\n",
    "plt.figure(figsize=(12, 6))\n",
    "sns.stripplot(x='CustGender', y='CustAccountBalance', data=df, jitter=True)\n",
    "plt.title('CustAccountBalance by Gender')\n",
    "plt.show()"
   ]
  },
  {
   "cell_type": "code",
   "execution_count": null,
   "id": "49138b52",
   "metadata": {},
   "outputs": [],
   "source": [
    "# Boxenplot\n",
    "\n",
    "plt.figure(figsize=(12, 6))\n",
    "sns.boxenplot(x='CustGender', y='CustAccountBalance', data=df)\n",
    "plt.title('CustAccountBalance by Gender')\n",
    "plt.show()"
   ]
  },
  {
   "cell_type": "markdown",
   "id": "d5119784",
   "metadata": {},
   "source": [
    "Plots for Gender Vs Transaction Amount"
   ]
  },
  {
   "cell_type": "code",
   "execution_count": null,
   "id": "86c1aa3b",
   "metadata": {},
   "outputs": [],
   "source": [
    "#strip plot\n",
    "\n",
    "plt.figure(figsize=(12, 6))\n",
    "sns.stripplot(x='CustGender', y='TransactionAmount (INR)', data=df, jitter=True)\n",
    "plt.title('Transaction Amount by Gender')\n",
    "plt.show()"
   ]
  },
  {
   "cell_type": "code",
   "execution_count": null,
   "id": "c55780a9",
   "metadata": {},
   "outputs": [],
   "source": [
    "# Boxenplot\n",
    "\n",
    "plt.figure(figsize=(12, 6))\n",
    "sns.boxenplot(x='CustGender', y='TransactionAmount (INR)', data=df)\n",
    "plt.title('CustAccountBalance by Gender')\n",
    "plt.show()"
   ]
  },
  {
   "cell_type": "markdown",
   "id": "9ef93d5a",
   "metadata": {},
   "source": [
    "Plots for Gender Vs Age"
   ]
  },
  {
   "cell_type": "code",
   "execution_count": null,
   "id": "586c9eeb",
   "metadata": {},
   "outputs": [],
   "source": [
    "#strip plot\n",
    "\n",
    "plt.figure(figsize=(12, 6))\n",
    "sns.stripplot(x='CustGender', y='Age', data=df, jitter=True)\n",
    "plt.title('Age by Gender')\n",
    "plt.show()"
   ]
  },
  {
   "cell_type": "code",
   "execution_count": null,
   "id": "e5762105",
   "metadata": {},
   "outputs": [],
   "source": [
    "# Boxenplot\n",
    "\n",
    "plt.figure(figsize=(12, 6))\n",
    "sns.boxenplot(x='CustGender', y='Age', data=df)\n",
    "plt.title('CustAccountBalance by Gender')\n",
    "plt.show()"
   ]
  },
  {
   "cell_type": "code",
   "execution_count": null,
   "id": "2862ee4b",
   "metadata": {},
   "outputs": [],
   "source": [
    "plt.figure(figsize=(12, 6))\n",
    "sns.histplot(data=df, x='Age', hue='CustGender', bins=30, kde=True, alpha=0.6)\n",
    "plt.title('Age Distribution by Gender')\n",
    "plt.ylabel('Frequency')\n",
    "plt.xlabel('Age')\n",
    "plt.tight_layout()\n",
    "plt.show()"
   ]
  },
  {
   "cell_type": "markdown",
   "id": "d350ae88",
   "metadata": {},
   "source": [
    "Plot of Gender vs Transaction Date "
   ]
  },
  {
   "cell_type": "code",
   "execution_count": null,
   "id": "11d135ab",
   "metadata": {},
   "outputs": [],
   "source": [
    "# Convert TransactionDate to datetime which was done earlier\n",
    "df['TransactionDate'] = pd.to_datetime(df['TransactionDate'])\n",
    "\n",
    "# Grouping by date and gender, counting transactions\n",
    "df['TransactionDate'] = df['TransactionDate'].dt.date  # Keep only the date part\n",
    "transaction_counts = df.groupby(['TransactionDate', 'CustGender']).size().reset_index(name='Count')\n",
    "\n",
    "# Plotting the line plot\n",
    "plt.figure(figsize=(14, 7))\n",
    "sns.lineplot(data=transaction_counts, x='TransactionDate', y='Count', hue='CustGender', marker='o')\n",
    "plt.title('Transaction Counts by Gender Over Time')\n",
    "plt.ylabel('Transaction Count')\n",
    "plt.xlabel('Transaction Date')\n",
    "plt.xticks(rotation=45)\n",
    "plt.legend(title='CustGender')\n",
    "plt.tight_layout()\n",
    "plt.show()"
   ]
  },
  {
   "cell_type": "markdown",
   "id": "3158ceec",
   "metadata": {},
   "source": [
    "Plot of Gender vs Customer Date of Birth "
   ]
  },
  {
   "cell_type": "code",
   "execution_count": null,
   "id": "4ee89428",
   "metadata": {},
   "outputs": [],
   "source": [
    "#Stacked Area Plot\n",
    "\n",
    "# Grouping by year and gender\n",
    "yearly_counts = df.groupby(['Year', 'CustGender']).size().reset_index(name='Count')\n",
    "\n",
    "plt.figure(figsize=(14, 6))\n",
    "sns.lineplot(data=yearly_counts, x='Year', y='Count', hue='CustGender', estimator='sum', marker='o', ci=None)\n",
    "plt.fill_between(yearly_counts['Year'], yearly_counts['Count'], alpha=0.3)\n",
    "plt.title('Stacked Area Plot of Birth Counts by Year and Gender')\n",
    "plt.ylabel('Count')\n",
    "plt.xlabel('Year')\n",
    "plt.xticks(rotation=45)\n",
    "plt.tight_layout()\n",
    "plt.show()"
   ]
  },
  {
   "cell_type": "code",
   "execution_count": null,
   "id": "d4064251",
   "metadata": {},
   "outputs": [],
   "source": [
    "# hist plot\n",
    "\n",
    "# CustomerDOB to datetime \n",
    "df['CustomerDOB'] = pd.to_datetime(df['CustomerDOB'])\n",
    "\n",
    "# Plotting the count of birth dates by gender\n",
    "plt.figure(figsize=(14, 6))\n",
    "sns.histplot(data=df, x='CustomerDOB', hue='CustGender', multiple='stack', bins=30, kde=False)\n",
    "plt.title('Distribution of Birth Dates by Gender')\n",
    "plt.ylabel('Count')\n",
    "plt.xlabel('Customer Date of Birth')\n",
    "plt.xticks(rotation=45)\n",
    "plt.tight_layout()\n",
    "plt.show()"
   ]
  },
  {
   "cell_type": "code",
   "execution_count": null,
   "id": "5ce984ce",
   "metadata": {},
   "outputs": [],
   "source": [
    "# Extracting month and year from CustomerDOB\n",
    "\n",
    "df['Month'] = df['CustomerDOB'].dt.month\n",
    "df['Year'] = df['CustomerDOB'].dt.year\n",
    "\n",
    "# Creating a pivot table for the heatmap\n",
    "heatmap_data = df.pivot_table(index='Year', columns='Month', values='CustGender', aggfunc='count', fill_value=0)\n",
    "\n",
    "plt.figure(figsize=(15, 17))\n",
    "sns.heatmap(data=heatmap_data, cmap='YlGnBu', annot=True, fmt='d')\n",
    "plt.title('Heatmap of Birth Counts by Month and Year')\n",
    "plt.ylabel('Year')\n",
    "plt.xlabel('Month')\n",
    "plt.xticks(rotation=45)\n",
    "plt.tight_layout()\n",
    "plt.show()"
   ]
  },
  {
   "cell_type": "code",
   "execution_count": null,
   "id": "52911813",
   "metadata": {},
   "outputs": [],
   "source": [
    "monthly_counts = df.groupby(['Month', 'CustGender']).size().reset_index(name='Count')\n",
    "\n",
    "plt.figure(figsize=(12, 6))\n",
    "sns.barplot(data=monthly_counts, x='Month', y='Count', hue='CustGender')\n",
    "plt.title('Monthly Birth Counts by Gender')\n",
    "plt.ylabel('Count')\n",
    "plt.xlabel('Month')\n",
    "plt.xticks(rotation=45)\n",
    "plt.tight_layout()\n",
    "plt.show()"
   ]
  },
  {
   "cell_type": "markdown",
   "id": "529cec03",
   "metadata": {},
   "source": [
    "## RFM ANALYSIS ##"
   ]
  },
  {
   "cell_type": "code",
   "execution_count": null,
   "id": "f9fae4ce",
   "metadata": {},
   "outputs": [],
   "source": [
    "# Reviewing Dataframe\n",
    "\n",
    "df.head()"
   ]
  },
  {
   "cell_type": "markdown",
   "id": "3ebde967",
   "metadata": {},
   "source": [
    "### RECENCY ###"
   ]
  },
  {
   "cell_type": "code",
   "execution_count": null,
   "id": "043f4475",
   "metadata": {},
   "outputs": [],
   "source": []
  },
  {
   "cell_type": "code",
   "execution_count": null,
   "id": "1b0a1c0b",
   "metadata": {},
   "outputs": [],
   "source": []
  }
 ],
 "metadata": {
  "kernelspec": {
   "display_name": "Python 3 (ipykernel)",
   "language": "python",
   "name": "python3"
  },
  "language_info": {
   "codemirror_mode": {
    "name": "ipython",
    "version": 3
   },
   "file_extension": ".py",
   "mimetype": "text/x-python",
   "name": "python",
   "nbconvert_exporter": "python",
   "pygments_lexer": "ipython3",
   "version": "3.9.13"
  }
 },
 "nbformat": 4,
 "nbformat_minor": 5
}
